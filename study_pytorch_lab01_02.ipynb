{
  "nbformat": 4,
  "nbformat_minor": 0,
  "metadata": {
    "colab": {
      "name": "study_pytorch_lab01_02.ipynb",
      "provenance": [],
      "collapsed_sections": []
    },
    "kernelspec": {
      "name": "python3",
      "display_name": "Python 3"
    }
  },
  "cells": [
    {
      "cell_type": "markdown",
      "metadata": {
        "id": "36wOB-09ieQJ",
        "colab_type": "text"
      },
      "source": [
        "## 1D Array with Numpy\n"
      ]
    },
    {
      "cell_type": "code",
      "metadata": {
        "id": "tGbWGndmiM5R",
        "colab_type": "code",
        "colab": {}
      },
      "source": [
        "import numpy as np\n",
        "import torch\n"
      ],
      "execution_count": 0,
      "outputs": []
    },
    {
      "cell_type": "code",
      "metadata": {
        "id": "JdDZTuw6iSIC",
        "colab_type": "code",
        "colab": {
          "base_uri": "https://localhost:8080/",
          "height": 36
        },
        "outputId": "4fad79eb-ee8f-45b1-ddb2-06f40b40703f"
      },
      "source": [
        "t= np.array([0.,1.,2.,3.,4.,5.,6.])\n",
        "print(t)"
      ],
      "execution_count": 3,
      "outputs": [
        {
          "output_type": "stream",
          "text": [
            "[0. 1. 2. 3. 4. 5. 6.]\n"
          ],
          "name": "stdout"
        }
      ]
    },
    {
      "cell_type": "code",
      "metadata": {
        "id": "9W6dR9nXi7Ke",
        "colab_type": "code",
        "colab": {
          "base_uri": "https://localhost:8080/",
          "height": 55
        },
        "outputId": "62bb116e-d225-419d-bc5d-506d75b8cb4a"
      },
      "source": [
        "print('Rank of t: ', t.ndim)\n",
        "print('Shape of t:',t.shape)"
      ],
      "execution_count": 4,
      "outputs": [
        {
          "output_type": "stream",
          "text": [
            "Rank of t:  1\n",
            "Shape of t: (7,)\n"
          ],
          "name": "stdout"
        }
      ]
    },
    {
      "cell_type": "code",
      "metadata": {
        "id": "xyRm3d6xjHTw",
        "colab_type": "code",
        "colab": {
          "base_uri": "https://localhost:8080/",
          "height": 73
        },
        "outputId": "c2be5fec-f85b-491e-8efa-95e9404fed03"
      },
      "source": [
        "print('t[0] t[1] t[-1] = ',t[0],t[1],t[-1]) # Element\n",
        "print('t[2:5] t[4:-1] = ',t[2:5],t[4:-1]) # Slicing\n",
        "print('t[:2] t[3:] = ',t[:5],t[3:]) # Slicing\n",
        "\n"
      ],
      "execution_count": 6,
      "outputs": [
        {
          "output_type": "stream",
          "text": [
            "t[0] t[1] t[-1] =  0.0 1.0 6.0\n",
            "t[2:5] t[4:-1] =  [2. 3. 4.] [4. 5.]\n",
            "t[:2] t[3:] =  [0. 1. 2. 3. 4.] [3. 4. 5. 6.]\n"
          ],
          "name": "stdout"
        }
      ]
    },
    {
      "cell_type": "markdown",
      "metadata": {
        "id": "KT3_0pJAjzdr",
        "colab_type": "text"
      },
      "source": [
        "## 2D Array with Numpy"
      ]
    },
    {
      "cell_type": "code",
      "metadata": {
        "id": "GjX0lII_j38_",
        "colab_type": "code",
        "colab": {
          "base_uri": "https://localhost:8080/",
          "height": 92
        },
        "outputId": "260d31c3-36ca-4d58-aae8-029821101851"
      },
      "source": [
        "t = np.array([[1.,2.,3.],[4.,5.,6.],[7.,8.,9.],[10.,11.,12.]])\n",
        "print(t)"
      ],
      "execution_count": 7,
      "outputs": [
        {
          "output_type": "stream",
          "text": [
            "[[ 1.  2.  3.]\n",
            " [ 4.  5.  6.]\n",
            " [ 7.  8.  9.]\n",
            " [10. 11. 12.]]\n"
          ],
          "name": "stdout"
        }
      ]
    },
    {
      "cell_type": "code",
      "metadata": {
        "id": "9M2Jm3W-mXJa",
        "colab_type": "code",
        "colab": {
          "base_uri": "https://localhost:8080/",
          "height": 55
        },
        "outputId": "1be87cc1-8502-4288-af85-d70b11485ebe"
      },
      "source": [
        "print('Rank of t: ', t.ndim)\n",
        "print('Shape of t:',t.shape)"
      ],
      "execution_count": 8,
      "outputs": [
        {
          "output_type": "stream",
          "text": [
            "Rank of t:  2\n",
            "Shape of t: (4, 3)\n"
          ],
          "name": "stdout"
        }
      ]
    },
    {
      "cell_type": "code",
      "metadata": {
        "id": "Qu3aX02RmbXX",
        "colab_type": "code",
        "colab": {
          "base_uri": "https://localhost:8080/",
          "height": 36
        },
        "outputId": "4a8312a5-274e-491f-82d4-0d8a857bc720"
      },
      "source": [
        "t = torch.FloatTensor([0.,1.,2.,3.,4.,5.,6.])\n",
        "print(t)"
      ],
      "execution_count": 11,
      "outputs": [
        {
          "output_type": "stream",
          "text": [
            "tensor([0., 1., 2., 3., 4., 5., 6.])\n"
          ],
          "name": "stdout"
        }
      ]
    },
    {
      "cell_type": "code",
      "metadata": {
        "id": "i2zj9ZKsms2f",
        "colab_type": "code",
        "colab": {
          "base_uri": "https://localhost:8080/",
          "height": 129
        },
        "outputId": "2c6ec9c1-4039-4ba3-b1bf-36bbdc0b14e2"
      },
      "source": [
        "print(t.dim())\n",
        "print(t.shape)\n",
        "print(t.size())\n",
        "print(t[0],t[1],t[-1])\n",
        "print(t[2:5],t[4:-1]) # Slicing\n",
        "print(t[:2],t[3:]) # Slicing\n",
        "\n"
      ],
      "execution_count": 16,
      "outputs": [
        {
          "output_type": "stream",
          "text": [
            "1\n",
            "torch.Size([7])\n",
            "torch.Size([7])\n",
            "tensor(0.) tensor(1.) tensor(6.)\n",
            "tensor([2., 3., 4.]) tensor([4., 5.])\n",
            "tensor([0., 1.]) tensor([3., 4., 5., 6.])\n"
          ],
          "name": "stdout"
        }
      ]
    },
    {
      "cell_type": "code",
      "metadata": {
        "id": "ehn27lp7nH-I",
        "colab_type": "code",
        "colab": {
          "base_uri": "https://localhost:8080/",
          "height": 92
        },
        "outputId": "578f9b93-2d9b-460c-d1e6-e3f4d5c58976"
      },
      "source": [
        "t= torch.FloatTensor([[1.,2.,3.],\n",
        "                      [4.,5.,6.],\n",
        "                      [7.,8.,8-9.],\n",
        "                      [10.,11.,12.]\n",
        "                      ])\n",
        "print(t)"
      ],
      "execution_count": 18,
      "outputs": [
        {
          "output_type": "stream",
          "text": [
            "tensor([[ 1.,  2.,  3.],\n",
            "        [ 4.,  5.,  6.],\n",
            "        [ 7.,  8., -1.],\n",
            "        [10., 11., 12.]])\n"
          ],
          "name": "stdout"
        }
      ]
    },
    {
      "cell_type": "code",
      "metadata": {
        "id": "0YYg12IxoFq1",
        "colab_type": "code",
        "colab": {
          "base_uri": "https://localhost:8080/",
          "height": 167
        },
        "outputId": "7afd991b-e785-48a4-eae8-4481b5b178c1"
      },
      "source": [
        "print(t.dim())# rank\n",
        "print(t.size()) # shape\n",
        "print(t[:,1]) # 첫번째 차원은 다 가져오고 두번쨰 차원에서는 1까지만 가지고 오셈\n",
        "print(t[:,1].size())\n",
        "print(t[:,:-1])"
      ],
      "execution_count": 19,
      "outputs": [
        {
          "output_type": "stream",
          "text": [
            "2\n",
            "torch.Size([4, 3])\n",
            "tensor([ 2.,  5.,  8., 11.])\n",
            "torch.Size([4])\n",
            "tensor([[ 1.,  2.],\n",
            "        [ 4.,  5.],\n",
            "        [ 7.,  8.],\n",
            "        [10., 11.]])\n"
          ],
          "name": "stdout"
        }
      ]
    },
    {
      "cell_type": "markdown",
      "metadata": {
        "id": "jNCKDCi7o8P7",
        "colab_type": "text"
      },
      "source": [
        "## Broadcasting \n"
      ]
    },
    {
      "cell_type": "code",
      "metadata": {
        "id": "sKAwaItWpBIG",
        "colab_type": "code",
        "colab": {
          "base_uri": "https://localhost:8080/",
          "height": 36
        },
        "outputId": "75182588-2092-4644-faf1-a3d542872428"
      },
      "source": [
        "# Same shape \n",
        "m1 = torch.FloatTensor([[3,3]])\n",
        "m2 = torch.FloatTensor([[2,2]])\n",
        "print(m1+m2)\n"
      ],
      "execution_count": 20,
      "outputs": [
        {
          "output_type": "stream",
          "text": [
            "tensor([[5., 5.]])\n"
          ],
          "name": "stdout"
        }
      ]
    },
    {
      "cell_type": "code",
      "metadata": {
        "id": "1pxCULOzpckR",
        "colab_type": "code",
        "colab": {
          "base_uri": "https://localhost:8080/",
          "height": 36
        },
        "outputId": "c0c26eb7-7212-46e3-a796-ec95066e95d2"
      },
      "source": [
        "# Vector +scalar\n",
        "m1 = torch.FloatTensor([[1,2]])\n",
        "m2 = torch.FloatTensor([3]) # 3 -> [[3,3]]\n",
        "print(m1+m2)"
      ],
      "execution_count": 21,
      "outputs": [
        {
          "output_type": "stream",
          "text": [
            "tensor([[4., 5.]])\n"
          ],
          "name": "stdout"
        }
      ]
    },
    {
      "cell_type": "code",
      "metadata": {
        "id": "GsohNM6RtKGR",
        "colab_type": "code",
        "colab": {
          "base_uri": "https://localhost:8080/",
          "height": 55
        },
        "outputId": "e6ace4d1-9759-4f14-dbab-adb0b5c5af15"
      },
      "source": [
        "# 2 x 1 Vector +1 x 2 Vector\n",
        "m1 = torch.FloatTensor([[1,2]])\n",
        "m2 = torch.FloatTensor([[3],[4]]) # 3 -> [[3,3]] 4->[[4,4]]\n",
        "print(m1+m2)"
      ],
      "execution_count": 22,
      "outputs": [
        {
          "output_type": "stream",
          "text": [
            "tensor([[4., 5.],\n",
            "        [5., 6.]])\n"
          ],
          "name": "stdout"
        }
      ]
    },
    {
      "cell_type": "markdown",
      "metadata": {
        "id": "ZbodX7vGuQin",
        "colab_type": "text"
      },
      "source": [
        "## Multiplication vs Matrix Multiplication"
      ]
    },
    {
      "cell_type": "code",
      "metadata": {
        "id": "G964IfYcuZpB",
        "colab_type": "code",
        "colab": {
          "base_uri": "https://localhost:8080/",
          "height": 260
        },
        "outputId": "43c7d598-537e-4f91-f456-de2879af8fa3"
      },
      "source": [
        "print()\n",
        "print(\"-----------------------\")\n",
        "print('Mul vs Matmul')\n",
        "m1 = torch.FloatTensor([[1,2],[3,4]])\n",
        "m2 = torch.FloatTensor([[1],[2]])\n",
        "print('Shape of Matrix 1:', m1.shape) # 2x2\n",
        "print('Shape of Matrix 2:', m2.shape) # 2x1\n",
        "print(m1.matmul(m2)) # 2 x 1 일반적인 행렬 곱\n",
        "\n",
        "m1 = torch.FloatTensor([[1,2],[3,4]])\n",
        "m2 = torch.FloatTensor([[1],[2]])\n",
        "\n",
        "print('Shape of Matrix 1:', m1.shape) # 2x2\n",
        "print('Shape of Matrix 2:', m2.shape) # 2x1\n",
        "\n",
        "print(m1*m2)\n",
        "print(m1.mul(m2))"
      ],
      "execution_count": 23,
      "outputs": [
        {
          "output_type": "stream",
          "text": [
            "\n",
            "-----------------------\n",
            "Mul vs Matmul\n",
            "Shape of Matrix 1: torch.Size([2, 2])\n",
            "Shape of Matrix 2: torch.Size([2, 1])\n",
            "tensor([[ 5.],\n",
            "        [11.]])\n",
            "Shape of Matrix 1: torch.Size([2, 2])\n",
            "Shape of Matrix 2: torch.Size([2, 1])\n",
            "tensor([[1., 2.],\n",
            "        [6., 8.]])\n",
            "tensor([[1., 2.],\n",
            "        [6., 8.]])\n"
          ],
          "name": "stdout"
        }
      ]
    },
    {
      "cell_type": "code",
      "metadata": {
        "id": "PqKZuGgzvi-Q",
        "colab_type": "code",
        "colab": {
          "base_uri": "https://localhost:8080/",
          "height": 36
        },
        "outputId": "287fb7e5-90e9-4ffb-9ee1-61583ac7e909"
      },
      "source": [
        "t= torch.FloatTensor([1,2])\n",
        "print(t.mean())"
      ],
      "execution_count": 24,
      "outputs": [
        {
          "output_type": "stream",
          "text": [
            "tensor(1.5000)\n"
          ],
          "name": "stdout"
        }
      ]
    },
    {
      "cell_type": "code",
      "metadata": {
        "id": "XSUm1s4iwGHY",
        "colab_type": "code",
        "colab": {
          "base_uri": "https://localhost:8080/",
          "height": 36
        },
        "outputId": "9d6efc4e-a6cd-4ef6-f97e-21f23a74fee1"
      },
      "source": [
        "# can't use mean() on integere\n",
        "t= torch.LongTensor([1,2])\n",
        "try : \n",
        "  print(t.mean())\n",
        "except Exception as exc:\n",
        "  print(exc)\n",
        "  "
      ],
      "execution_count": 25,
      "outputs": [
        {
          "output_type": "stream",
          "text": [
            "Can only calculate the mean of floating types. Got Long instead.\n"
          ],
          "name": "stdout"
        }
      ]
    },
    {
      "cell_type": "code",
      "metadata": {
        "id": "RYiHTWzBwdnu",
        "colab_type": "code",
        "colab": {
          "base_uri": "https://localhost:8080/",
          "height": 55
        },
        "outputId": "9f428704-9474-45a9-8cf9-a4f1111af1f1"
      },
      "source": [
        "t= torch.FloatTensor([[1,2],[3,4]])\n",
        "print(t)"
      ],
      "execution_count": 26,
      "outputs": [
        {
          "output_type": "stream",
          "text": [
            "tensor([[1., 2.],\n",
            "        [3., 4.]])\n"
          ],
          "name": "stdout"
        }
      ]
    },
    {
      "cell_type": "code",
      "metadata": {
        "id": "Tw_Fj5oKw4eO",
        "colab_type": "code",
        "colab": {
          "base_uri": "https://localhost:8080/",
          "height": 92
        },
        "outputId": "80bf3a0f-5596-4930-b45f-11696a2ac6ee"
      },
      "source": [
        "print(t.mean())\n",
        "print(t.mean(dim=0))\n",
        "print(t.mean(dim=1))\n",
        "print(t.mean(dim=-1))"
      ],
      "execution_count": 27,
      "outputs": [
        {
          "output_type": "stream",
          "text": [
            "tensor(2.5000)\n",
            "tensor([2., 3.])\n",
            "tensor([1.5000, 3.5000])\n",
            "tensor([1.5000, 3.5000])\n"
          ],
          "name": "stdout"
        }
      ]
    },
    {
      "cell_type": "markdown",
      "metadata": {
        "id": "wIQzMPj1x7lH",
        "colab_type": "text"
      },
      "source": [
        "## Sum"
      ]
    },
    {
      "cell_type": "code",
      "metadata": {
        "id": "q64Drpv6xK0-",
        "colab_type": "code",
        "colab": {
          "base_uri": "https://localhost:8080/",
          "height": 92
        },
        "outputId": "4b8ebd19-c19b-474b-ee42-36d72a6bb845"
      },
      "source": [
        "print(t.sum())\n",
        "print(t.sum(dim=0))\n",
        "print(t.sum(dim=1))\n",
        "print(t.sum(dim=-1))"
      ],
      "execution_count": 29,
      "outputs": [
        {
          "output_type": "stream",
          "text": [
            "tensor(10.)\n",
            "tensor([4., 6.])\n",
            "tensor([3., 7.])\n",
            "tensor([3., 7.])\n"
          ],
          "name": "stdout"
        }
      ]
    },
    {
      "cell_type": "markdown",
      "metadata": {
        "id": "XqJjstR2yEdK",
        "colab_type": "text"
      },
      "source": [
        "## Max and Argmax"
      ]
    },
    {
      "cell_type": "code",
      "metadata": {
        "id": "-Fy4gJNFx4AW",
        "colab_type": "code",
        "colab": {
          "base_uri": "https://localhost:8080/",
          "height": 55
        },
        "outputId": "55935481-4865-410d-aa4b-361784e37c44"
      },
      "source": [
        "t= torch.FloatTensor([[1,2],[3,4]])\n",
        "print(t)"
      ],
      "execution_count": 30,
      "outputs": [
        {
          "output_type": "stream",
          "text": [
            "tensor([[1., 2.],\n",
            "        [3., 4.]])\n"
          ],
          "name": "stdout"
        }
      ]
    },
    {
      "cell_type": "code",
      "metadata": {
        "id": "rH837iYEyJBQ",
        "colab_type": "code",
        "colab": {
          "base_uri": "https://localhost:8080/",
          "height": 36
        },
        "outputId": "d4d49b73-f8a2-4266-e62a-268706cdf9c7"
      },
      "source": [
        "print(t.max())"
      ],
      "execution_count": 31,
      "outputs": [
        {
          "output_type": "stream",
          "text": [
            "tensor(4.)\n"
          ],
          "name": "stdout"
        }
      ]
    },
    {
      "cell_type": "code",
      "metadata": {
        "id": "DlOuZ2qFyL2m",
        "colab_type": "code",
        "colab": {
          "base_uri": "https://localhost:8080/",
          "height": 111
        },
        "outputId": "628f4c02-5b36-4bb5-e5c7-491ba08d6718"
      },
      "source": [
        "print(t.max(dim=0))\n",
        "print('max: ',t.max(dim=0)[0])\n",
        "print('Argmax: ',t.max(dim=0)[1])"
      ],
      "execution_count": 33,
      "outputs": [
        {
          "output_type": "stream",
          "text": [
            "torch.return_types.max(\n",
            "values=tensor([3., 4.]),\n",
            "indices=tensor([1, 1]))\n",
            "max:  tensor([3., 4.])\n",
            "Argmax:  tensor([1, 1])\n"
          ],
          "name": "stdout"
        }
      ]
    },
    {
      "cell_type": "code",
      "metadata": {
        "id": "0UYjRPlyyTz0",
        "colab_type": "code",
        "colab": {
          "base_uri": "https://localhost:8080/",
          "height": 129
        },
        "outputId": "2b5b89a3-3d2d-4ebf-a4df-74babecc9b69"
      },
      "source": [
        "print(t.max(dim=1))\n",
        "print(t.max(dim=-1))\n"
      ],
      "execution_count": 34,
      "outputs": [
        {
          "output_type": "stream",
          "text": [
            "torch.return_types.max(\n",
            "values=tensor([2., 4.]),\n",
            "indices=tensor([1, 1]))\n",
            "torch.return_types.max(\n",
            "values=tensor([2., 4.]),\n",
            "indices=tensor([1, 1]))\n"
          ],
          "name": "stdout"
        }
      ]
    },
    {
      "cell_type": "code",
      "metadata": {
        "id": "Oa0ae8lFy3aW",
        "colab_type": "code",
        "colab": {
          "base_uri": "https://localhost:8080/",
          "height": 36
        },
        "outputId": "da81952a-12ba-4a81-cbbf-1ac8d46b5003"
      },
      "source": [
        "t= np.array([[[0,1,2],\n",
        "             [3,4,5]],\n",
        "            [[6,7,8],\n",
        "             [9,10,11]]])\n",
        "ft=torch.FloatTensor(t)\n",
        "print(ft.shape)"
      ],
      "execution_count": 39,
      "outputs": [
        {
          "output_type": "stream",
          "text": [
            "torch.Size([2, 2, 3])\n"
          ],
          "name": "stdout"
        }
      ]
    },
    {
      "cell_type": "markdown",
      "metadata": {
        "id": "DwGcorJf1hRV",
        "colab_type": "text"
      },
      "source": [
        "## View(Reshape)"
      ]
    },
    {
      "cell_type": "code",
      "metadata": {
        "id": "QRZmN5c00gpp",
        "colab_type": "code",
        "colab": {
          "base_uri": "https://localhost:8080/",
          "height": 111
        },
        "outputId": "1fe78d19-68fb-4840-d610-40a9821a3524"
      },
      "source": [
        "print (ft.view([-1,3]))\n",
        "print (ft.view([-1,3]).shape)\n"
      ],
      "execution_count": 41,
      "outputs": [
        {
          "output_type": "stream",
          "text": [
            "tensor([[ 0.,  1.,  2.],\n",
            "        [ 3.,  4.,  5.],\n",
            "        [ 6.,  7.,  8.],\n",
            "        [ 9., 10., 11.]])\n",
            "torch.Size([4, 3])\n"
          ],
          "name": "stdout"
        }
      ]
    },
    {
      "cell_type": "markdown",
      "metadata": {
        "id": "8aLh1olt4NFI",
        "colab_type": "text"
      },
      "source": [
        "## Squeeze"
      ]
    },
    {
      "cell_type": "code",
      "metadata": {
        "id": "YpZSe_Ge1fUR",
        "colab_type": "code",
        "colab": {
          "base_uri": "https://localhost:8080/",
          "height": 92
        },
        "outputId": "0190b5bb-5b84-466c-ada9-d1c3d89a2c33"
      },
      "source": [
        "ft = torch.FloatTensor([[0],[1],[2]])\n",
        "print(ft)\n",
        "print(ft.shape)"
      ],
      "execution_count": 43,
      "outputs": [
        {
          "output_type": "stream",
          "text": [
            "tensor([[0.],\n",
            "        [1.],\n",
            "        [2.]])\n",
            "torch.Size([3, 1])\n"
          ],
          "name": "stdout"
        }
      ]
    },
    {
      "cell_type": "code",
      "metadata": {
        "id": "7yAJXyY34ZxE",
        "colab_type": "code",
        "colab": {
          "base_uri": "https://localhost:8080/",
          "height": 55
        },
        "outputId": "db38cafc-3d69-49cd-caa6-4561441dc69c"
      },
      "source": [
        "print(ft.squeeze())\n",
        "print(ft.squeeze().shape)\n"
      ],
      "execution_count": 44,
      "outputs": [
        {
          "output_type": "stream",
          "text": [
            "tensor([0., 1., 2.])\n",
            "torch.Size([3])\n"
          ],
          "name": "stdout"
        }
      ]
    },
    {
      "cell_type": "markdown",
      "metadata": {
        "id": "307y88_050QN",
        "colab_type": "text"
      },
      "source": [
        "## Unsqueeze"
      ]
    },
    {
      "cell_type": "code",
      "metadata": {
        "id": "mNtrcF3p4lP1",
        "colab_type": "code",
        "colab": {
          "base_uri": "https://localhost:8080/",
          "height": 36
        },
        "outputId": "dcc30d0b-22ea-4370-aac6-a93fd236ecf3"
      },
      "source": [
        "ft = torch.FloatTensor([0,1,2])\n",
        "print(ft.shape)"
      ],
      "execution_count": 53,
      "outputs": [
        {
          "output_type": "stream",
          "text": [
            "torch.Size([3])\n"
          ],
          "name": "stdout"
        }
      ]
    },
    {
      "cell_type": "code",
      "metadata": {
        "id": "WKM7Uz9Z44Z8",
        "colab_type": "code",
        "colab": {
          "base_uri": "https://localhost:8080/",
          "height": 55
        },
        "outputId": "ab071957-9199-4d14-f2f1-e18c9112f837"
      },
      "source": [
        "print(ft.unsqueeze(0))\n",
        "print(ft.unsqueeze(0).shape)"
      ],
      "execution_count": 54,
      "outputs": [
        {
          "output_type": "stream",
          "text": [
            "tensor([[0., 1., 2.]])\n",
            "torch.Size([1, 3])\n"
          ],
          "name": "stdout"
        }
      ]
    },
    {
      "cell_type": "code",
      "metadata": {
        "id": "D-kCOEBo5E6g",
        "colab_type": "code",
        "colab": {
          "base_uri": "https://localhost:8080/",
          "height": 55
        },
        "outputId": "41b37b2b-98c5-4650-8f5c-527959cd1130"
      },
      "source": [
        "print (ft.view([1,-1]))\n",
        "print (ft.view([1,-1]).shape)\n"
      ],
      "execution_count": 55,
      "outputs": [
        {
          "output_type": "stream",
          "text": [
            "tensor([[0., 1., 2.]])\n",
            "torch.Size([1, 3])\n"
          ],
          "name": "stdout"
        }
      ]
    },
    {
      "cell_type": "code",
      "metadata": {
        "id": "7aqkJb8Q5Pms",
        "colab_type": "code",
        "colab": {
          "base_uri": "https://localhost:8080/",
          "height": 92
        },
        "outputId": "47f7b030-559a-44c9-f7e0-24829da21239"
      },
      "source": [
        "print(ft.unsqueeze(1))\n",
        "print(ft.unsqueeze(1).shape)"
      ],
      "execution_count": 56,
      "outputs": [
        {
          "output_type": "stream",
          "text": [
            "tensor([[0.],\n",
            "        [1.],\n",
            "        [2.]])\n",
            "torch.Size([3, 1])\n"
          ],
          "name": "stdout"
        }
      ]
    },
    {
      "cell_type": "code",
      "metadata": {
        "id": "ZO6z2qaQ5Xu2",
        "colab_type": "code",
        "colab": {
          "base_uri": "https://localhost:8080/",
          "height": 92
        },
        "outputId": "29325715-49f8-4dd0-e7aa-9092cd61500c"
      },
      "source": [
        "print(ft.unsqueeze(-1))\n",
        "print(ft.unsqueeze(-1).shape)"
      ],
      "execution_count": 57,
      "outputs": [
        {
          "output_type": "stream",
          "text": [
            "tensor([[0.],\n",
            "        [1.],\n",
            "        [2.]])\n",
            "torch.Size([3, 1])\n"
          ],
          "name": "stdout"
        }
      ]
    },
    {
      "cell_type": "markdown",
      "metadata": {
        "id": "5YniGRPR57dt",
        "colab_type": "text"
      },
      "source": [
        "## Type Casting"
      ]
    },
    {
      "cell_type": "code",
      "metadata": {
        "id": "1WwUOZ825cKz",
        "colab_type": "code",
        "colab": {
          "base_uri": "https://localhost:8080/",
          "height": 36
        },
        "outputId": "108aa0b3-d9db-45ca-847f-6fdc4269e40d"
      },
      "source": [
        "lt = torch.LongTensor([1,2,3,4])\n",
        "print(lt)"
      ],
      "execution_count": 58,
      "outputs": [
        {
          "output_type": "stream",
          "text": [
            "tensor([1, 2, 3, 4])\n"
          ],
          "name": "stdout"
        }
      ]
    },
    {
      "cell_type": "code",
      "metadata": {
        "id": "36bbpbGl6FkE",
        "colab_type": "code",
        "colab": {
          "base_uri": "https://localhost:8080/",
          "height": 36
        },
        "outputId": "3fab6748-92b8-42aa-c4ee-bcc622e8cb12"
      },
      "source": [
        "print(lt.float())"
      ],
      "execution_count": 60,
      "outputs": [
        {
          "output_type": "stream",
          "text": [
            "tensor([1., 2., 3., 4.])\n"
          ],
          "name": "stdout"
        }
      ]
    },
    {
      "cell_type": "code",
      "metadata": {
        "id": "8V_rKIVt6H7d",
        "colab_type": "code",
        "colab": {
          "base_uri": "https://localhost:8080/",
          "height": 36
        },
        "outputId": "0ecb1fe4-45f6-478e-dd8c-16b9e52e7841"
      },
      "source": [
        "bt = torch.ByteTensor([True,False,False,True])\n",
        "print(bt)"
      ],
      "execution_count": 61,
      "outputs": [
        {
          "output_type": "stream",
          "text": [
            "tensor([1, 0, 0, 1], dtype=torch.uint8)\n"
          ],
          "name": "stdout"
        }
      ]
    },
    {
      "cell_type": "code",
      "metadata": {
        "id": "bukcGidQ6SSy",
        "colab_type": "code",
        "colab": {
          "base_uri": "https://localhost:8080/",
          "height": 55
        },
        "outputId": "f6b88d3e-c38c-4977-f903-56aa75da2b24"
      },
      "source": [
        "print(bt.long())\n",
        "print(bt.float())"
      ],
      "execution_count": 62,
      "outputs": [
        {
          "output_type": "stream",
          "text": [
            "tensor([1, 0, 0, 1])\n",
            "tensor([1., 0., 0., 1.])\n"
          ],
          "name": "stdout"
        }
      ]
    },
    {
      "cell_type": "markdown",
      "metadata": {
        "id": "N0KYzO3K6df3",
        "colab_type": "text"
      },
      "source": [
        "## Concatenate\n"
      ]
    },
    {
      "cell_type": "code",
      "metadata": {
        "id": "hJyeOqIS6X9H",
        "colab_type": "code",
        "colab": {}
      },
      "source": [
        "x= torch.FloatTensor([[1,2],[3,4]])\n",
        "y= torch.FloatTensor([[5,6],[7,8]])"
      ],
      "execution_count": 0,
      "outputs": []
    },
    {
      "cell_type": "code",
      "metadata": {
        "id": "NGZPxJDK7CW1",
        "colab_type": "code",
        "colab": {
          "base_uri": "https://localhost:8080/",
          "height": 92
        },
        "outputId": "91467481-5002-4a83-f455-a580e7a479bf"
      },
      "source": [
        "print(torch.cat([x,y],dim=0))"
      ],
      "execution_count": 64,
      "outputs": [
        {
          "output_type": "stream",
          "text": [
            "tensor([[1., 2.],\n",
            "        [3., 4.],\n",
            "        [5., 6.],\n",
            "        [7., 8.]])\n"
          ],
          "name": "stdout"
        }
      ]
    },
    {
      "cell_type": "code",
      "metadata": {
        "id": "zH69Qj-p7Iao",
        "colab_type": "code",
        "colab": {
          "base_uri": "https://localhost:8080/",
          "height": 55
        },
        "outputId": "736a5a2e-84ca-4d39-c8b9-6726999349c5"
      },
      "source": [
        "print(torch.cat([x,y],dim=1))\n"
      ],
      "execution_count": 65,
      "outputs": [
        {
          "output_type": "stream",
          "text": [
            "tensor([[1., 2., 5., 6.],\n",
            "        [3., 4., 7., 8.]])\n"
          ],
          "name": "stdout"
        }
      ]
    },
    {
      "cell_type": "markdown",
      "metadata": {
        "id": "w9gEvY4R70aE",
        "colab_type": "text"
      },
      "source": [
        "## Stacking "
      ]
    },
    {
      "cell_type": "code",
      "metadata": {
        "id": "gy3p_mUb7K_s",
        "colab_type": "code",
        "colab": {}
      },
      "source": [
        "x= torch.FloatTensor([1,4])\n",
        "y= torch.FloatTensor([2,5])\n",
        "z= torch.FloatTensor([3,6])\n",
        "\n"
      ],
      "execution_count": 0,
      "outputs": []
    },
    {
      "cell_type": "code",
      "metadata": {
        "id": "X5iPYnao8BK_",
        "colab_type": "code",
        "colab": {
          "base_uri": "https://localhost:8080/",
          "height": 111
        },
        "outputId": "c94c7c65-6757-4b7e-d6a3-34ece81633f7"
      },
      "source": [
        "print(torch.stack([x,y,z]))\n",
        "print(torch.stack([x,y,z],dim =1))\n"
      ],
      "execution_count": 69,
      "outputs": [
        {
          "output_type": "stream",
          "text": [
            "tensor([[1., 4.],\n",
            "        [2., 5.],\n",
            "        [3., 6.]])\n",
            "tensor([[1., 2., 3.],\n",
            "        [4., 5., 6.]])\n"
          ],
          "name": "stdout"
        }
      ]
    },
    {
      "cell_type": "code",
      "metadata": {
        "id": "5_Bc6NZ28JKB",
        "colab_type": "code",
        "colab": {
          "base_uri": "https://localhost:8080/",
          "height": 73
        },
        "outputId": "48fcc019-0d98-4c7d-83a5-72c6e2cb56a1"
      },
      "source": [
        "print(torch.cat([x.unsqueeze(0),y.unsqueeze(0),z.unsqueeze(0)],dim=0))\n"
      ],
      "execution_count": 70,
      "outputs": [
        {
          "output_type": "stream",
          "text": [
            "tensor([[1., 4.],\n",
            "        [2., 5.],\n",
            "        [3., 6.]])\n"
          ],
          "name": "stdout"
        }
      ]
    },
    {
      "cell_type": "markdown",
      "metadata": {
        "id": "Mectpdm8-Ihb",
        "colab_type": "text"
      },
      "source": [
        "## Ones and Zeros"
      ]
    },
    {
      "cell_type": "code",
      "metadata": {
        "id": "jtvq1XbV8hki",
        "colab_type": "code",
        "colab": {
          "base_uri": "https://localhost:8080/",
          "height": 55
        },
        "outputId": "23a800cb-97cd-4db6-b20e-de9f76d941bb"
      },
      "source": [
        "x = torch.FloatTensor([[0,1,2],[2,1,0]])\n",
        "print(x)"
      ],
      "execution_count": 73,
      "outputs": [
        {
          "output_type": "stream",
          "text": [
            "tensor([[0., 1., 2.],\n",
            "        [2., 1., 0.]])\n"
          ],
          "name": "stdout"
        }
      ]
    },
    {
      "cell_type": "code",
      "metadata": {
        "id": "8f6RLDPP-Edw",
        "colab_type": "code",
        "colab": {
          "base_uri": "https://localhost:8080/",
          "height": 92
        },
        "outputId": "7bf23455-f422-4410-a9c4-a6d2f671173c"
      },
      "source": [
        "print(torch.ones_like(x))\n",
        "print(torch.zeros_like(x))"
      ],
      "execution_count": 74,
      "outputs": [
        {
          "output_type": "stream",
          "text": [
            "tensor([[1., 1., 1.],\n",
            "        [1., 1., 1.]])\n",
            "tensor([[0., 0., 0.],\n",
            "        [0., 0., 0.]])\n"
          ],
          "name": "stdout"
        }
      ]
    },
    {
      "cell_type": "markdown",
      "metadata": {
        "id": "_OGbtBBZ-XGt",
        "colab_type": "text"
      },
      "source": [
        "## In - place Operation"
      ]
    },
    {
      "cell_type": "code",
      "metadata": {
        "id": "y04kctn4-TU_",
        "colab_type": "code",
        "colab": {}
      },
      "source": [
        "x= torch.FloatTensor([[1,2],[3,4]])"
      ],
      "execution_count": 0,
      "outputs": []
    },
    {
      "cell_type": "code",
      "metadata": {
        "id": "pYb2MG62-iYa",
        "colab_type": "code",
        "colab": {
          "base_uri": "https://localhost:8080/",
          "height": 167
        },
        "outputId": "21b90d68-3750-4898-a66d-2b9ffce320f9"
      },
      "source": [
        "print(x.mul(2.))\n",
        "print(x)\n",
        "print(x.mul_(2.))\n",
        "print(x)\n"
      ],
      "execution_count": 76,
      "outputs": [
        {
          "output_type": "stream",
          "text": [
            "tensor([[2., 4.],\n",
            "        [6., 8.]])\n",
            "tensor([[1., 2.],\n",
            "        [3., 4.]])\n",
            "tensor([[2., 4.],\n",
            "        [6., 8.]])\n",
            "tensor([[2., 4.],\n",
            "        [6., 8.]])\n"
          ],
          "name": "stdout"
        }
      ]
    },
    {
      "cell_type": "markdown",
      "metadata": {
        "id": "cLTwa7T1AGy2",
        "colab_type": "text"
      },
      "source": [
        "## lab 2 Linear"
      ]
    },
    {
      "cell_type": "code",
      "metadata": {
        "id": "NHtu3IbN-p23",
        "colab_type": "code",
        "colab": {}
      },
      "source": [
        "x_train = torch.FloatTensor([[1],[2],[3]]) # 데이터 정의\n",
        "y_train = torch.FloatTensor([[2],[4],[6]])\n",
        "\n",
        "W= torch.zeros(1,requires_grad=True) # 가설 초기화\n",
        "b= torch.zeros(1,requires_grad=True)\n",
        "\n",
        "optimizer = torch.optim.SGD([W, b], lr=0.01)  # Optimizer 정의\n",
        "\n",
        "nb_epochs = 100\n",
        "for epoch in range(1,nb_epochs+1): # 반복\n",
        "  hypothesis = x_train * W +b # 가설 예측\n",
        "  cost = torch.mean((hypothesis-y_train)**2) # cost 계산\n",
        "\n",
        "  optimizer.zero_grad() #optimizer로 학습\n",
        "  cost.backward()\n",
        "  optimizer.step()\n"
      ],
      "execution_count": 0,
      "outputs": []
    },
    {
      "cell_type": "code",
      "metadata": {
        "id": "NE54vsvRCsfM",
        "colab_type": "code",
        "colab": {}
      },
      "source": [
        ""
      ],
      "execution_count": 0,
      "outputs": []
    },
    {
      "cell_type": "code",
      "metadata": {
        "id": "QHt6iIIiDXdD",
        "colab_type": "code",
        "colab": {}
      },
      "source": [
        "from google.colab import drive\n",
        "drive.mount('/content/drive')"
      ],
      "execution_count": 0,
      "outputs": []
    },
    {
      "cell_type": "code",
      "metadata": {
        "id": "rzpO5oLkBUA8",
        "colab_type": "code",
        "colab": {}
      },
      "source": [
        ""
      ],
      "execution_count": 0,
      "outputs": []
    }
  ]
}