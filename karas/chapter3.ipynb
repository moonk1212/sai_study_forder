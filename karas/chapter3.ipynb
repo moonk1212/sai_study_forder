{
  "nbformat": 4,
  "nbformat_minor": 0,
  "metadata": {
    "colab": {
      "name": "chapter3.ipynb",
      "provenance": [],
      "collapsed_sections": []
    },
    "kernelspec": {
      "name": "python3",
      "display_name": "Python 3"
    }
  },
  "cells": [
    {
      "cell_type": "markdown",
      "metadata": {
        "id": "LdHFWWigZgMB"
      },
      "source": [
        "## 3장 신경망 시작하기\n",
        "### 3.1 신경망의 구조\n",
        "\n",
        "#### 3.1.0 신경망 훈련과 연관 된것 \n",
        "- 네트워크(또는 모델)를 구성하는 층\n",
        "- 입력 데이터와 그에 상응하는 타깃\n",
        "- 학습에 사용할 피드백 선호를 정의하는 손실 함수\n",
        "- 학습 진행 방식을 결정하는 옵티마이저\n",
        "\n",
        "#### 3.1.1 층: 딥러닝의 구성 단위\n",
        "- 2D 텐서 : 간단한 벡터 데이터 저장, 밀집연결층(densely connected layer)에 의해 처리\n",
        "- 3D 텐서 : 시퀀스 데이터 저장, LSTM 같은 순환 층에 의해 처리 \n",
        "- 4D 텐서 :  이미지 데이터 저장, 2D 합성곱 층( convolution layer)에 의해 처리 \n"
      ]
    },
    {
      "cell_type": "code",
      "metadata": {
        "id": "XxQ9_0btZaXp"
      },
      "source": [
        "# 첫번째 차원이 784인 2D 텐서만 입력으로 받는 층 -> 첫번째 차원의 크기가 32로 변환된 텐서를 출력할 것\n",
        "\n",
        "from keras import layers\n",
        "layers = layers.Dense(32,input_shape=(784,)) # 32개의 유닛으로 된 밀집 층"
      ],
      "execution_count": null,
      "outputs": []
    },
    {
      "cell_type": "code",
      "metadata": {
        "id": "O7_Src_NZngw"
      },
      "source": [
        "from keras import models\n",
        "from keras import layers\n",
        "\n",
        "model = models.Sequential()\n",
        "model.add(layers.Dense(32,input_shape=(784,)))\n",
        "model.add(layers.Dense(10))\n",
        "\n",
        "# 두번째층에는 input_shape 매개변수를 지정하지 않았지만 앞선 층의 출력 크기를 입력 크기로 자동으로 채택해준다.\n",
        "\n"
      ],
      "execution_count": null,
      "outputs": []
    },
    {
      "cell_type": "markdown",
      "metadata": {
        "id": "Qu5fcrXvkjpJ"
      },
      "source": [
        "#### 3.1.2 모델: 층의 네트워크\n",
        "- 가지(branch)가 2개인 네트워크 \n",
        "- 출력이 여러 개인 네트워크\n",
        "- 인셉션(Inception) 블록 \n",
        " \n",
        " 딱맞는 네트워크 찾기는 어려움\n",
        "\n",
        "#### 3.1.3 손실 함수와 옵티마이저: 학습 과정을 조절하는 열쇠 \n",
        "\n",
        "- 손실 함수(loss function)(목적 함수(objective function)) : 훈련하는 동안 최소화될 값입니다. 주어진 문제에 대한 성공 지표가 됩니다.\n",
        "\n",
        "- 옵티마이저(optimizer) : 손실 함수를 기반으로 네트워크가 어떻게 업데이트될지 결정합니다.\n",
        " 특정 종류의 확률적 경사 하강법(SGD)을 구현 \n",
        "\n",
        "### 3.2 케라스 소개 \n",
        "#### 3.2.2 케라스를 사용한 개발\n",
        "\n",
        "1. 입력텐서와 타깃 텐서로 이루어진 훈련 데이터를 정의합니다.\n",
        "2. 입력과 타깃을 매핑하는 층으로 이루어잔 네트워크(또는 모델)를 정의 \n",
        "3. 손실 함수, 옵티마이저, 모니터링하기 위한 측정 지표를 선택하여 학습 과정을 설정\n",
        "4. 훈련 데이터에 대해 모델의 fit() 메서드를 반복적으로 호출 한다.\n",
        "\n",
        "\n"
      ]
    },
    {
      "cell_type": "code",
      "metadata": {
        "id": "3EYTjjzLd6vz"
      },
      "source": [
        "from keras import models \n",
        "from keras import layers\n",
        "\n",
        "# Sequential 사용\n",
        "model = models.Sequential()\n",
        "model.add(layers.Dense(32,activation='relu',input_shape=(784,)))\n",
        "model.add(layers.Dense(10,activation='softmax'))\n",
        "\n",
        "# 함수형 API 사용\n",
        "input_tensor = layers.Input(shape=(784,))\n",
        "x = layers.Dense(32, activation='relu')(input_tensor)\n",
        "output_tensor = layers.Dense(10,activation='softmax')(x)\n",
        "\n",
        "model = models.Model(inputs=input_tensor, outputs=output_tensor)\n"
      ],
      "execution_count": null,
      "outputs": []
    },
    {
      "cell_type": "code",
      "metadata": {
        "id": "LRdUZFL8kiwe"
      },
      "source": [
        "from keras import optimizers\n",
        "model.compile(optimizer=optimizers.RMSprop(lr=0.001),\n",
        "              loss='mse',\n",
        "              metrics=['accuracy'])\n"
      ],
      "execution_count": null,
      "outputs": []
    },
    {
      "cell_type": "markdown",
      "metadata": {
        "id": "QtpisEfkCEch"
      },
      "source": [
        "### 3.4 영화 리뷰 분류: 이진 분류 예제\n",
        "#### 3.4.1 IMDB 데이터셋\n",
        "- IMDB 데이터셋 로드하기"
      ]
    },
    {
      "cell_type": "code",
      "metadata": {
        "id": "_NAYNS3nDed-",
        "outputId": "306aa474-52f8-4970-fe1e-2e29cc339f03",
        "colab": {
          "base_uri": "https://localhost:8080/",
          "height": 55
        }
      },
      "source": [
        "from keras.datasets import imdb\n",
        "(train_data, train_labels),(test_data, test_labels) = imdb.load_data(num_words=10000)"
      ],
      "execution_count": null,
      "outputs": [
        {
          "output_type": "stream",
          "text": [
            "Downloading data from https://storage.googleapis.com/tensorflow/tf-keras-datasets/imdb.npz\n",
            "17465344/17464789 [==============================] - 1s 0us/step\n"
          ],
          "name": "stdout"
        }
      ]
    },
    {
      "cell_type": "code",
      "metadata": {
        "id": "Ak9FichADgHA",
        "outputId": "19c6ab3a-0c87-4131-a5d0-e76d3184dc94",
        "colab": {
          "base_uri": "https://localhost:8080/",
          "height": 1000
        }
      },
      "source": [
        "train_data[0]"
      ],
      "execution_count": null,
      "outputs": [
        {
          "output_type": "execute_result",
          "data": {
            "text/plain": [
              "[1,\n",
              " 14,\n",
              " 22,\n",
              " 16,\n",
              " 43,\n",
              " 530,\n",
              " 973,\n",
              " 1622,\n",
              " 1385,\n",
              " 65,\n",
              " 458,\n",
              " 4468,\n",
              " 66,\n",
              " 3941,\n",
              " 4,\n",
              " 173,\n",
              " 36,\n",
              " 256,\n",
              " 5,\n",
              " 25,\n",
              " 100,\n",
              " 43,\n",
              " 838,\n",
              " 112,\n",
              " 50,\n",
              " 670,\n",
              " 2,\n",
              " 9,\n",
              " 35,\n",
              " 480,\n",
              " 284,\n",
              " 5,\n",
              " 150,\n",
              " 4,\n",
              " 172,\n",
              " 112,\n",
              " 167,\n",
              " 2,\n",
              " 336,\n",
              " 385,\n",
              " 39,\n",
              " 4,\n",
              " 172,\n",
              " 4536,\n",
              " 1111,\n",
              " 17,\n",
              " 546,\n",
              " 38,\n",
              " 13,\n",
              " 447,\n",
              " 4,\n",
              " 192,\n",
              " 50,\n",
              " 16,\n",
              " 6,\n",
              " 147,\n",
              " 2025,\n",
              " 19,\n",
              " 14,\n",
              " 22,\n",
              " 4,\n",
              " 1920,\n",
              " 4613,\n",
              " 469,\n",
              " 4,\n",
              " 22,\n",
              " 71,\n",
              " 87,\n",
              " 12,\n",
              " 16,\n",
              " 43,\n",
              " 530,\n",
              " 38,\n",
              " 76,\n",
              " 15,\n",
              " 13,\n",
              " 1247,\n",
              " 4,\n",
              " 22,\n",
              " 17,\n",
              " 515,\n",
              " 17,\n",
              " 12,\n",
              " 16,\n",
              " 626,\n",
              " 18,\n",
              " 2,\n",
              " 5,\n",
              " 62,\n",
              " 386,\n",
              " 12,\n",
              " 8,\n",
              " 316,\n",
              " 8,\n",
              " 106,\n",
              " 5,\n",
              " 4,\n",
              " 2223,\n",
              " 5244,\n",
              " 16,\n",
              " 480,\n",
              " 66,\n",
              " 3785,\n",
              " 33,\n",
              " 4,\n",
              " 130,\n",
              " 12,\n",
              " 16,\n",
              " 38,\n",
              " 619,\n",
              " 5,\n",
              " 25,\n",
              " 124,\n",
              " 51,\n",
              " 36,\n",
              " 135,\n",
              " 48,\n",
              " 25,\n",
              " 1415,\n",
              " 33,\n",
              " 6,\n",
              " 22,\n",
              " 12,\n",
              " 215,\n",
              " 28,\n",
              " 77,\n",
              " 52,\n",
              " 5,\n",
              " 14,\n",
              " 407,\n",
              " 16,\n",
              " 82,\n",
              " 2,\n",
              " 8,\n",
              " 4,\n",
              " 107,\n",
              " 117,\n",
              " 5952,\n",
              " 15,\n",
              " 256,\n",
              " 4,\n",
              " 2,\n",
              " 7,\n",
              " 3766,\n",
              " 5,\n",
              " 723,\n",
              " 36,\n",
              " 71,\n",
              " 43,\n",
              " 530,\n",
              " 476,\n",
              " 26,\n",
              " 400,\n",
              " 317,\n",
              " 46,\n",
              " 7,\n",
              " 4,\n",
              " 2,\n",
              " 1029,\n",
              " 13,\n",
              " 104,\n",
              " 88,\n",
              " 4,\n",
              " 381,\n",
              " 15,\n",
              " 297,\n",
              " 98,\n",
              " 32,\n",
              " 2071,\n",
              " 56,\n",
              " 26,\n",
              " 141,\n",
              " 6,\n",
              " 194,\n",
              " 7486,\n",
              " 18,\n",
              " 4,\n",
              " 226,\n",
              " 22,\n",
              " 21,\n",
              " 134,\n",
              " 476,\n",
              " 26,\n",
              " 480,\n",
              " 5,\n",
              " 144,\n",
              " 30,\n",
              " 5535,\n",
              " 18,\n",
              " 51,\n",
              " 36,\n",
              " 28,\n",
              " 224,\n",
              " 92,\n",
              " 25,\n",
              " 104,\n",
              " 4,\n",
              " 226,\n",
              " 65,\n",
              " 16,\n",
              " 38,\n",
              " 1334,\n",
              " 88,\n",
              " 12,\n",
              " 16,\n",
              " 283,\n",
              " 5,\n",
              " 16,\n",
              " 4472,\n",
              " 113,\n",
              " 103,\n",
              " 32,\n",
              " 15,\n",
              " 16,\n",
              " 5345,\n",
              " 19,\n",
              " 178,\n",
              " 32]"
            ]
          },
          "metadata": {
            "tags": []
          },
          "execution_count": 7
        }
      ]
    },
    {
      "cell_type": "code",
      "metadata": {
        "id": "ocVAPnj-JCPE",
        "outputId": "609ebe97-55c8-425a-84a7-c04a3bcf3ed6",
        "colab": {
          "base_uri": "https://localhost:8080/",
          "height": 36
        }
      },
      "source": [
        "train_labels[0]"
      ],
      "execution_count": null,
      "outputs": [
        {
          "output_type": "execute_result",
          "data": {
            "text/plain": [
              "1"
            ]
          },
          "metadata": {
            "tags": []
          },
          "execution_count": 8
        }
      ]
    },
    {
      "cell_type": "code",
      "metadata": {
        "id": "HGMfWdSQJIoj",
        "outputId": "d7bc4c7f-c6ea-431e-e5fa-b666eabdb254",
        "colab": {
          "base_uri": "https://localhost:8080/",
          "height": 36
        }
      },
      "source": [
        "max([max(sequence) for sequence in train_data])\n"
      ],
      "execution_count": null,
      "outputs": [
        {
          "output_type": "execute_result",
          "data": {
            "text/plain": [
              "9999"
            ]
          },
          "metadata": {
            "tags": []
          },
          "execution_count": 9
        }
      ]
    },
    {
      "cell_type": "code",
      "metadata": {
        "id": "aXtRlG43JVeD",
        "outputId": "6a2c064f-1dae-4a38-dc07-6ae9d0be3721",
        "colab": {
          "base_uri": "https://localhost:8080/",
          "height": 75
        }
      },
      "source": [
        "word_index = imdb.get_word_index()\n",
        "reverse_word_index = dict([(value,key) for (key,value) in word_index.items()])\n",
        "decoded_review = ' '.join([reverse_word_index.get(i-3,'?') for i in train_data[0]])"
      ],
      "execution_count": null,
      "outputs": [
        {
          "output_type": "stream",
          "text": [
            "Downloading data from https://storage.googleapis.com/tensorflow/tf-keras-datasets/imdb_word_index.json\n",
            "1646592/1641221 [==============================] - 0s 0us/step\n"
          ],
          "name": "stdout"
        }
      ]
    },
    {
      "cell_type": "code",
      "metadata": {
        "id": "P7L5KKtbKNn7"
      },
      "source": [
        "import numpy as np\n",
        "\n",
        "def vectorize_sequences(sequences,dimension=10000):\n",
        "    results = np.zeros((len(sequences),dimension))\n",
        "    for i, sequence in enumerate(sequences):\n",
        "        results[i,sequence] = 1.\n",
        "    return results \n",
        "x_train = vectorize_sequences(train_data)\n",
        "x_test = vectorize_sequences(test_data)"
      ],
      "execution_count": null,
      "outputs": []
    },
    {
      "cell_type": "code",
      "metadata": {
        "id": "cn-4_gKL0FKY"
      },
      "source": [
        "y_train = np.asarray(train_labels).astype('float32')\n",
        "y_test = np.asarray(test_labels).astype('float32')"
      ],
      "execution_count": null,
      "outputs": []
    },
    {
      "cell_type": "markdown",
      "metadata": {
        "id": "7hJehxoHjS_I"
      },
      "source": [
        "#### 3.4.3 신경망 모델 만들기\n",
        "- Dense 층을 쌓을 때 두 가지 중요한 구조상의 결정이 필요함 \n",
        "- 얼마나 많은 층을 사용할 것인가?\n",
        "- 각층에 \n"
      ]
    },
    {
      "cell_type": "code",
      "metadata": {
        "id": "IiXKuIoOOVcq"
      },
      "source": [
        "from keras import models \n",
        "from keras import layers\n",
        "\n",
        "model = models.Sequential()\n",
        "model.add(layers.Dense(16,activation='relu',input_shape=(10000,)))\n",
        "model.add(layers.Dense(16,activation='relu'))\n",
        "model.add(layers.Dense(1,activation='sigmoid'))"
      ],
      "execution_count": null,
      "outputs": []
    },
    {
      "cell_type": "markdown",
      "metadata": {
        "id": "TX0KBFOYL4k2"
      },
      "source": [
        "#### 활성화 함수가 무엇인가? 왜 필요한가?\n",
        "\n",
        "relu는 활성화 함수 \n",
        "활성화 함수 없이 한다면 DEnse 층은 선형적인 연산인 점곱과 덧셈 2개로 구성됩니다.\n",
        "output = dot(w,input)+b\n",
        "- 가설 공간이 확장x "
      ]
    },
    {
      "cell_type": "code",
      "metadata": {
        "id": "Uexk6bnuL02k"
      },
      "source": [
        "model.compile(optimizer='rmsprop',\n",
        "              loss='binary_crossentropy',\n",
        "              metrics=['accuracy'])"
      ],
      "execution_count": null,
      "outputs": []
    },
    {
      "cell_type": "code",
      "metadata": {
        "id": "IXdJ3MdrN5X1"
      },
      "source": [
        "from keras import optimizers\n",
        "\n",
        "model.compile(optimizer=optimizers.RMSprop(lr=0.001),\n",
        "               loss='binary_crossentropy',\n",
        "               metrics=['accuracy'])"
      ],
      "execution_count": null,
      "outputs": []
    },
    {
      "cell_type": "markdown",
      "metadata": {
        "id": "5fXdWmhkQqFb"
      },
      "source": [
        "#### 손실함수\n",
        "##### MSE(Mean Squared Error), 평균 제곱 오차\n",
        "\n",
        "##### CEE(Cross Entropy Error),교차 엔트로피 오차"
      ]
    },
    {
      "cell_type": "code",
      "metadata": {
        "id": "H_dmTZpAQlF3"
      },
      "source": [
        "from keras import losses\n",
        "from keras import metrics\n",
        "\n",
        "\n",
        "model.compile(optimizer=optimizers.RMSprop(lr=0.001),\n",
        "               loss=losses.binary_crossentropy,\n",
        "               metrics=[metrics.binary_accuracy])"
      ],
      "execution_count": null,
      "outputs": []
    },
    {
      "cell_type": "code",
      "metadata": {
        "id": "Q00kgjvdVQgr"
      },
      "source": [
        "x_val = x_train[:10000]\n",
        "partial_x_train = x_train[10000:]\n",
        "y_val = y_train[:10000]\n",
        "partial_y_train = y_train[10000:]"
      ],
      "execution_count": null,
      "outputs": []
    },
    {
      "cell_type": "code",
      "metadata": {
        "id": "WgcQCAycVsv9",
        "outputId": "9b826fae-4028-44b2-df91-aa5b24b7a267",
        "colab": {
          "base_uri": "https://localhost:8080/",
          "height": 784
        }
      },
      "source": [
        "model.compile(optimizer='rmsprop',\n",
        "              loss='binary_crossentropy',\n",
        "              metrics=['acc'])\n",
        "\n",
        "history = model.fit(partial_x_train,\n",
        "                    partial_y_train,\n",
        "                    epochs=20,\n",
        "                    batch_size=512,\n",
        "                    validation_data=(x_val, y_val))"
      ],
      "execution_count": null,
      "outputs": [
        {
          "output_type": "stream",
          "text": [
            "Epoch 1/20\n",
            "30/30 [==============================] - 1s 50ms/step - loss: 0.5157 - acc: 0.7937 - val_loss: 0.4048 - val_acc: 0.8477\n",
            "Epoch 2/20\n",
            "30/30 [==============================] - 1s 35ms/step - loss: 0.3102 - acc: 0.9037 - val_loss: 0.3179 - val_acc: 0.8794\n",
            "Epoch 3/20\n",
            "30/30 [==============================] - 1s 35ms/step - loss: 0.2284 - acc: 0.9267 - val_loss: 0.2776 - val_acc: 0.8926\n",
            "Epoch 4/20\n",
            "30/30 [==============================] - 1s 34ms/step - loss: 0.1782 - acc: 0.9449 - val_loss: 0.3249 - val_acc: 0.8695\n",
            "Epoch 5/20\n",
            "30/30 [==============================] - 1s 35ms/step - loss: 0.1489 - acc: 0.9525 - val_loss: 0.2908 - val_acc: 0.8822\n",
            "Epoch 6/20\n",
            "30/30 [==============================] - 1s 34ms/step - loss: 0.1210 - acc: 0.9641 - val_loss: 0.2929 - val_acc: 0.8847\n",
            "Epoch 7/20\n",
            "30/30 [==============================] - 1s 35ms/step - loss: 0.1017 - acc: 0.9708 - val_loss: 0.3116 - val_acc: 0.8838\n",
            "Epoch 8/20\n",
            "30/30 [==============================] - 1s 35ms/step - loss: 0.0842 - acc: 0.9773 - val_loss: 0.3447 - val_acc: 0.8755\n",
            "Epoch 9/20\n",
            "30/30 [==============================] - 1s 35ms/step - loss: 0.0718 - acc: 0.9811 - val_loss: 0.3450 - val_acc: 0.8790\n",
            "Epoch 10/20\n",
            "30/30 [==============================] - 1s 35ms/step - loss: 0.0587 - acc: 0.9856 - val_loss: 0.3677 - val_acc: 0.8769\n",
            "Epoch 11/20\n",
            "30/30 [==============================] - 1s 35ms/step - loss: 0.0490 - acc: 0.9887 - val_loss: 0.3972 - val_acc: 0.8740\n",
            "Epoch 12/20\n",
            "30/30 [==============================] - 1s 35ms/step - loss: 0.0422 - acc: 0.9902 - val_loss: 0.4204 - val_acc: 0.8738\n",
            "Epoch 13/20\n",
            "30/30 [==============================] - 1s 35ms/step - loss: 0.0327 - acc: 0.9938 - val_loss: 0.4544 - val_acc: 0.8704\n",
            "Epoch 14/20\n",
            "30/30 [==============================] - 1s 35ms/step - loss: 0.0274 - acc: 0.9945 - val_loss: 0.4782 - val_acc: 0.8717\n",
            "Epoch 15/20\n",
            "30/30 [==============================] - 1s 36ms/step - loss: 0.0233 - acc: 0.9960 - val_loss: 0.5116 - val_acc: 0.8712\n",
            "Epoch 16/20\n",
            "30/30 [==============================] - 1s 36ms/step - loss: 0.0160 - acc: 0.9979 - val_loss: 0.5815 - val_acc: 0.8605\n",
            "Epoch 17/20\n",
            "30/30 [==============================] - 1s 35ms/step - loss: 0.0144 - acc: 0.9983 - val_loss: 0.5806 - val_acc: 0.8662\n",
            "Epoch 18/20\n",
            "30/30 [==============================] - 1s 35ms/step - loss: 0.0106 - acc: 0.9988 - val_loss: 0.6522 - val_acc: 0.8581\n",
            "Epoch 19/20\n",
            "30/30 [==============================] - 1s 35ms/step - loss: 0.0072 - acc: 0.9997 - val_loss: 0.6587 - val_acc: 0.8669\n",
            "Epoch 20/20\n",
            "30/30 [==============================] - 1s 34ms/step - loss: 0.0074 - acc: 0.9993 - val_loss: 0.6954 - val_acc: 0.8653\n"
          ],
          "name": "stdout"
        }
      ]
    },
    {
      "cell_type": "code",
      "metadata": {
        "id": "AHPzLZnDRDKC",
        "outputId": "6c13a15e-f0a7-478f-c21c-6ead9f806d6c",
        "colab": {
          "base_uri": "https://localhost:8080/",
          "height": 295
        }
      },
      "source": [
        "import matplotlib.pyplot as plt\n",
        "\n",
        "history_dict = history.history\n",
        "loss = history_dict['loss']\n",
        "val_loss = history_dict['val_loss']\n",
        "\n",
        "epochs = range(1, len(loss) + 1)\n",
        "\n",
        "plt.plot(epochs, loss, 'bo', label='Training loss')  # ‘bo’는 파란색 점을 의미합니다.\n",
        "plt.plot(epochs, val_loss, 'b', label='Validation loss') # ‘b’는 파란색 실선을 의미합니다.\n",
        "plt.title('Training and validation loss')\n",
        "plt.xlabel('Epochs')\n",
        "plt.ylabel('Loss')\n",
        "plt.legend()\n",
        "\n",
        "plt.show()"
      ],
      "execution_count": null,
      "outputs": [
        {
          "output_type": "display_data",
          "data": {
            "image/png": "[encoded data removed]",
            "text/plain": [
              "<Figure size 432x288 with 1 Axes>"
            ]
          },
          "metadata": {
            "tags": [],
            "needs_background": "light"
          }
        }
      ]
    },
    {
      "cell_type": "code",
      "metadata": {
        "id": "cQeAAN4sNy6q",
        "outputId": "498188d0-445b-4124-f39d-121a694cfd8d",
        "colab": {
          "base_uri": "https://localhost:8080/",
          "height": 295
        }
      },
      "source": [
        "plt.clf() # 그래프를 초기화합니다.\n",
        "acc = history_dict['acc']\n",
        "val_acc = history_dict['val_acc']\n",
        "\n",
        "plt.plot(epochs, acc, 'bo', label='Training acc')\n",
        "plt.plot(epochs, val_acc, 'b', label='Validation acc')\n",
        "plt.title('Training and validation accuracy')\n",
        "plt.xlabel('Epochs')\n",
        "plt.ylabel('Accuracy')\n",
        "plt.legend()\n",
        "\n",
        "plt.show()"
      ],
      "execution_count": null,
      "outputs": [
        {
          "output_type": "display_data",
          "data": {
            "image/png": "[encoded data removed]",
            "text/plain": [
              "<Figure size 432x288 with 1 Axes>"
            ]
          },
          "metadata": {
            "tags": [],
            "needs_background": "light"
          }
        }
      ]
    },
    {
      "cell_type": "code",
      "metadata": {
        "id": "A3OWvKQJ1EKE",
        "outputId": "ecf4296c-32ab-4dbf-9d7a-06a1c3a39a3d",
        "colab": {
          "base_uri": "https://localhost:8080/",
          "height": 185
        }
      },
      "source": [
        "model = models.Sequential()\n",
        "model.add(layers.Dense(16, activation='relu', input_shape=(10000,)))\n",
        "model.add(layers.Dense(16, activation='relu'))\n",
        "model.add(layers.Dense(1, activation='sigmoid'))\n",
        "\n",
        "model.compile(optimizer='rmsprop',\n",
        "              loss='binary_crossentropy',\n",
        "              metrics=['accuracy'])\n",
        "\n",
        "model.fit(x_train, y_train, epochs=4, batch_size=512)\n",
        "results = model.evaluate(x_test, y_test)"
      ],
      "execution_count": null,
      "outputs": [
        {
          "output_type": "stream",
          "text": [
            "Epoch 1/4\n",
            "49/49 [==============================] - 1s 27ms/step - loss: 0.4953 - accuracy: 0.8135\n",
            "Epoch 2/4\n",
            "49/49 [==============================] - 1s 27ms/step - loss: 0.2853 - accuracy: 0.9036\n",
            "Epoch 3/4\n",
            "49/49 [==============================] - 1s 28ms/step - loss: 0.2131 - accuracy: 0.9240\n",
            "Epoch 4/4\n",
            "49/49 [==============================] - 1s 27ms/step - loss: 0.1771 - accuracy: 0.9377\n",
            "782/782 [==============================] - 1s 1ms/step - loss: 0.2882 - accuracy: 0.8844\n"
          ],
          "name": "stdout"
        }
      ]
    },
    {
      "cell_type": "code",
      "metadata": {
        "id": "H-OvpT0sxuar",
        "outputId": "1ac97ef8-f844-435c-ed0a-5a68ff1bac26",
        "colab": {
          "base_uri": "https://localhost:8080/",
          "height": 36
        }
      },
      "source": [
        "print(results)"
      ],
      "execution_count": null,
      "outputs": [
        {
          "output_type": "stream",
          "text": [
            "[0.288154661655426, 0.8844000101089478]\n"
          ],
          "name": "stdout"
        }
      ]
    },
    {
      "cell_type": "code",
      "metadata": {
        "id": "UjHQYPqxyXzJ",
        "outputId": "17c878ef-8f0d-42f4-d1ee-b12345b7f991",
        "colab": {
          "base_uri": "https://localhost:8080/",
          "height": 148
        }
      },
      "source": [
        "model.predict(x_test)"
      ],
      "execution_count": null,
      "outputs": [
        {
          "output_type": "execute_result",
          "data": {
            "text/plain": [
              "array([[0.16920659],\n",
              "       [0.9997935 ],\n",
              "       [0.7545532 ],\n",
              "       ...,\n",
              "       [0.0930025 ],\n",
              "       [0.07432482],\n",
              "       [0.48155293]], dtype=float32)"
            ]
          },
          "metadata": {
            "tags": []
          },
          "execution_count": 24
        }
      ]
    },
    {
      "cell_type": "code",
      "metadata": {
        "id": "OIFZ6_8ZymNj",
        "outputId": "005d5fa2-afc0-49c4-a3bc-29859ebfdb72",
        "colab": {
          "base_uri": "https://localhost:8080/",
          "height": 36
        }
      },
      "source": [
        "print(x_test[0])"
      ],
      "execution_count": null,
      "outputs": [
        {
          "output_type": "stream",
          "text": [
            "[0. 1. 1. ... 0. 0. 0.]\n"
          ],
          "name": "stdout"
        }
      ]
    },
    {
      "cell_type": "markdown",
      "metadata": {
        "id": "vCLwTwqY90y0"
      },
      "source": [
        "### 3.5.1 로이터 데이터셋\n",
        "- 46개의 토픽이 있음 \n",
        "- 각 토픽은 훈련 세트에 최소한 10개의 샘플을 가지고 있음"
      ]
    },
    {
      "cell_type": "code",
      "metadata": {
        "id": "J8PXHTd4ypqK",
        "outputId": "d46417dc-ac97-4dc1-9b64-2d2499be834c",
        "colab": {
          "base_uri": "https://localhost:8080/",
          "height": 55
        }
      },
      "source": [
        " from keras.datasets import reuters\n",
        "\n",
        "(train_data, train_labels), (test_data, test_labels) = reuters.load_data(\n",
        "     num_words=10000)"
      ],
      "execution_count": null,
      "outputs": [
        {
          "output_type": "stream",
          "text": [
            "Downloading data from https://storage.googleapis.com/tensorflow/tf-keras-datasets/reuters.npz\n",
            "2113536/2110848 [==============================] - 0s 0us/step\n"
          ],
          "name": "stdout"
        }
      ]
    },
    {
      "cell_type": "code",
      "metadata": {
        "id": "kEgLfyKR-Mbl",
        "outputId": "07093da9-9b3d-4ccb-d3e7-00f124855b8a",
        "colab": {
          "base_uri": "https://localhost:8080/",
          "height": 36
        }
      },
      "source": [
        " len(train_data),len(test_data)"
      ],
      "execution_count": null,
      "outputs": [
        {
          "output_type": "execute_result",
          "data": {
            "text/plain": [
              "(8982, 2246)"
            ]
          },
          "metadata": {
            "tags": []
          },
          "execution_count": 30
        }
      ]
    },
    {
      "cell_type": "code",
      "metadata": {
        "id": "pRO1w7An-RfH",
        "outputId": "a22bc0df-b183-4c3d-fef2-b8f73adfc297",
        "colab": {
          "base_uri": "https://localhost:8080/",
          "height": 596
        }
      },
      "source": [
        "train_data[10]"
      ],
      "execution_count": null,
      "outputs": [
        {
          "output_type": "execute_result",
          "data": {
            "text/plain": [
              "[1,\n",
              " 245,\n",
              " 273,\n",
              " 207,\n",
              " 156,\n",
              " 53,\n",
              " 74,\n",
              " 160,\n",
              " 26,\n",
              " 14,\n",
              " 46,\n",
              " 296,\n",
              " 26,\n",
              " 39,\n",
              " 74,\n",
              " 2979,\n",
              " 3554,\n",
              " 14,\n",
              " 46,\n",
              " 4689,\n",
              " 4329,\n",
              " 86,\n",
              " 61,\n",
              " 3499,\n",
              " 4795,\n",
              " 14,\n",
              " 61,\n",
              " 451,\n",
              " 4329,\n",
              " 17,\n",
              " 12]"
            ]
          },
          "metadata": {
            "tags": []
          },
          "execution_count": 31
        }
      ]
    },
    {
      "cell_type": "code",
      "metadata": {
        "id": "s5c9yvh_-aEO",
        "outputId": "a5c3fe0a-9710-4f49-d208-6ef496595b93",
        "colab": {
          "base_uri": "https://localhost:8080/",
          "height": 75
        }
      },
      "source": [
        "word_index = reuters.get_word_index()\n",
        "reverse_word_index = dict([(value, key) for (key, value) in word_index.items()])\n",
        "decoded_newswire = ' '.join([reverse_word_index.get(i - 3, '?') for i in\n",
        "    train_data[0]]) \n",
        "#0, 1, 2는 ‘패딩’, ‘문서 시작’, ‘사전에 없음’을 위한 인덱스이므로 3을 뺍니다."
      ],
      "execution_count": null,
      "outputs": [
        {
          "output_type": "stream",
          "text": [
            "Downloading data from https://storage.googleapis.com/tensorflow/tf-keras-datasets/reuters_word_index.json\n",
            "557056/550378 [==============================] - 0s 0us/step\n"
          ],
          "name": "stdout"
        }
      ]
    },
    {
      "cell_type": "code",
      "metadata": {
        "id": "ThnLGgyp-gdv",
        "outputId": "bd4a7bd8-a152-40ab-d07d-b8e09d94f1a5",
        "colab": {
          "base_uri": "https://localhost:8080/",
          "height": 36
        }
      },
      "source": [
        "# 샘플에 연결된 레이블은 토픽의 인덱스로 0과 45 사이의 정수\n",
        "train_labels[10]"
      ],
      "execution_count": null,
      "outputs": [
        {
          "output_type": "execute_result",
          "data": {
            "text/plain": [
              "3"
            ]
          },
          "metadata": {
            "tags": []
          },
          "execution_count": 34
        }
      ]
    },
    {
      "cell_type": "code",
      "metadata": {
        "id": "HUd7CfxX-rqf"
      },
      "source": [
        "import numpy as np\n",
        "\n",
        "def vectorize_sequences(sequences, dimension=10000):\n",
        "    results = np.zeros((len(sequences), dimension))\n",
        "    for i, sequence in enumerate(sequences):\n",
        "        results[i, sequence] = 1.\n",
        "    return results\n",
        "\n",
        "x_train = vectorize_sequences(train_data) # 훈련 데이터 벡터 변환\n",
        "x_test = vectorize_sequences(test_data) # 테스트 데이터 벡터 변환"
      ],
      "execution_count": null,
      "outputs": []
    },
    {
      "cell_type": "code",
      "metadata": {
        "id": "YkP3ePNa-ura"
      },
      "source": [
        "def to_one_hot(labels, dimension=46):\n",
        "    results = np.zeros((len(labels), dimension))\n",
        "    for i, label in enumerate(labels):\n",
        "        results[i, label] = 1.\n",
        "    return results\n",
        "\n",
        "one_hot_train_labels = to_one_hot(train_labels) # 훈련 레이블 벡터 변환\n",
        "one_hot_test_labels = to_one_hot(test_labels) # 테스트 레이블 벡터 변환"
      ],
      "execution_count": null,
      "outputs": []
    },
    {
      "cell_type": "code",
      "metadata": {
        "id": "GIHp6zBi-4El"
      },
      "source": [
        "from keras.utils.np_utils import to_categorical\n",
        "\n",
        "one_hot_train_labels = to_categorical(train_labels)\n",
        "one_hot_test_labels = to_categorical(test_labels)"
      ],
      "execution_count": null,
      "outputs": []
    },
    {
      "cell_type": "markdown",
      "metadata": {
        "id": "jft5epq9-9Mx"
      },
      "source": [
        "### 3.5.3 모델 구성\n",
        "- 영화 리뷰 분류 문제와 비슷해 보임\n",
        "    - 짧은 텍스트를 분류\n",
        "- 출력 클래스의 개수가 2에서 46개로 늘어남    "
      ]
    },
    {
      "cell_type": "code",
      "metadata": {
        "id": "ygNAVMqP-6CY"
      },
      "source": [
        "from keras import models\n",
        "from keras import layers\n",
        "\n",
        "model = models.Sequential()\n",
        "model.add(layers.Dense(64, activation='relu', input_shape=(10000,)))\n",
        "model.add(layers.Dense(64, activation='relu'))\n",
        "model.add(layers.Dense(46, activation='softmax'))"
      ],
      "execution_count": null,
      "outputs": []
    },
    {
      "cell_type": "markdown",
      "metadata": {
        "id": "0aXs4p3sBqQe"
      },
      "source": [
        "- 마지막 Dense 층의 크기가 46입니다. \n",
        "-마지막 층에 softmax 활성화 함수가 사용\n",
        "- 각 입력 샘플마다 46개의 출력 클래스에 대한 확률 분포를 출력\n",
        "    - 46차원의 출력 벡터를 만들며 output[i]는 어떤 샘플이 클래스 i에 속할 확률입니다. 46개의 값을 모두 더하면 1이 됩니다."
      ]
    },
    {
      "cell_type": "code",
      "metadata": {
        "id": "fAYcFfJNAqGY"
      },
      "source": [
        "model.compile(optimizer='rmsprop',\n",
        "              loss='categorical_crossentropy',\n",
        "              metrics=['accuracy'])"
      ],
      "execution_count": null,
      "outputs": []
    },
    {
      "cell_type": "code",
      "metadata": {
        "id": "NW-nc5F3BpTU"
      },
      "source": [
        "# 3.5.4 훈련 검증\n",
        "x_val = x_train[:1000]\n",
        "partial_x_train = x_train[1000:]\n",
        "\n",
        "y_val = one_hot_train_labels[:1000]\n",
        "partial_y_train = one_hot_train_labels[1000:]"
      ],
      "execution_count": null,
      "outputs": []
    },
    {
      "cell_type": "code",
      "metadata": {
        "id": "0neX2obaCE3K",
        "outputId": "ccb71a8d-4b3d-413b-f425-dc9bcbcad451",
        "colab": {
          "base_uri": "https://localhost:8080/",
          "height": 784
        }
      },
      "source": [
        "history = model.fit(partial_x_train,\n",
        "                    partial_y_train,\n",
        "                    epochs=20,\n",
        "                    batch_size=512,\n",
        "                    validation_data=(x_val, y_val))"
      ],
      "execution_count": null,
      "outputs": [
        {
          "output_type": "stream",
          "text": [
            "Epoch 1/20\n",
            "16/16 [==============================] - 1s 49ms/step - loss: 2.5179 - accuracy: 0.5296 - val_loss: 1.6940 - val_accuracy: 0.6290\n",
            "Epoch 2/20\n",
            "16/16 [==============================] - 1s 54ms/step - loss: 1.3926 - accuracy: 0.7061 - val_loss: 1.3091 - val_accuracy: 0.7200\n",
            "Epoch 3/20\n",
            "16/16 [==============================] - 1s 54ms/step - loss: 1.0437 - accuracy: 0.7740 - val_loss: 1.1390 - val_accuracy: 0.7550\n",
            "Epoch 4/20\n",
            "16/16 [==============================] - 1s 55ms/step - loss: 0.8154 - accuracy: 0.8207 - val_loss: 1.0479 - val_accuracy: 0.7660\n",
            "Epoch 5/20\n",
            "16/16 [==============================] - 1s 54ms/step - loss: 0.6472 - accuracy: 0.8597 - val_loss: 0.9852 - val_accuracy: 0.7850\n",
            "Epoch 6/20\n",
            "16/16 [==============================] - 1s 56ms/step - loss: 0.5215 - accuracy: 0.8899 - val_loss: 0.9419 - val_accuracy: 0.8040\n",
            "Epoch 7/20\n",
            "16/16 [==============================] - 1s 54ms/step - loss: 0.4161 - accuracy: 0.9132 - val_loss: 0.9214 - val_accuracy: 0.8010\n",
            "Epoch 8/20\n",
            "16/16 [==============================] - 1s 54ms/step - loss: 0.3404 - accuracy: 0.9285 - val_loss: 0.8955 - val_accuracy: 0.8080\n",
            "Epoch 9/20\n",
            "16/16 [==============================] - 1s 54ms/step - loss: 0.2860 - accuracy: 0.9382 - val_loss: 0.8828 - val_accuracy: 0.8190\n",
            "Epoch 10/20\n",
            "16/16 [==============================] - 1s 55ms/step - loss: 0.2405 - accuracy: 0.9466 - val_loss: 0.9077 - val_accuracy: 0.8160\n",
            "Epoch 11/20\n",
            "16/16 [==============================] - 1s 54ms/step - loss: 0.2082 - accuracy: 0.9489 - val_loss: 0.9131 - val_accuracy: 0.8100\n",
            "Epoch 12/20\n",
            "16/16 [==============================] - 1s 55ms/step - loss: 0.1819 - accuracy: 0.9529 - val_loss: 0.9789 - val_accuracy: 0.7960\n",
            "Epoch 13/20\n",
            "16/16 [==============================] - 1s 54ms/step - loss: 0.1654 - accuracy: 0.9536 - val_loss: 0.9431 - val_accuracy: 0.8100\n",
            "Epoch 14/20\n",
            "16/16 [==============================] - 1s 54ms/step - loss: 0.1451 - accuracy: 0.9573 - val_loss: 0.9493 - val_accuracy: 0.8210\n",
            "Epoch 15/20\n",
            "16/16 [==============================] - 1s 56ms/step - loss: 0.1419 - accuracy: 0.9565 - val_loss: 0.9812 - val_accuracy: 0.8110\n",
            "Epoch 16/20\n",
            "16/16 [==============================] - 1s 54ms/step - loss: 0.1323 - accuracy: 0.9563 - val_loss: 0.9711 - val_accuracy: 0.8170\n",
            "Epoch 17/20\n",
            "16/16 [==============================] - 1s 56ms/step - loss: 0.1217 - accuracy: 0.9593 - val_loss: 0.9915 - val_accuracy: 0.8180\n",
            "Epoch 18/20\n",
            "16/16 [==============================] - 1s 54ms/step - loss: 0.1203 - accuracy: 0.9567 - val_loss: 1.0689 - val_accuracy: 0.8010\n",
            "Epoch 19/20\n",
            "16/16 [==============================] - 1s 54ms/step - loss: 0.1163 - accuracy: 0.9575 - val_loss: 1.0573 - val_accuracy: 0.7950\n",
            "Epoch 20/20\n",
            "16/16 [==============================] - 1s 53ms/step - loss: 0.1119 - accuracy: 0.9564 - val_loss: 1.0623 - val_accuracy: 0.8090\n"
          ],
          "name": "stdout"
        }
      ]
    },
    {
      "cell_type": "code",
      "metadata": {
        "id": "a60BMSg3CHAt",
        "outputId": "cc833f49-7e09-4c6c-8c7e-9bec7363715c",
        "colab": {
          "base_uri": "https://localhost:8080/",
          "height": 295
        }
      },
      "source": [
        "import matplotlib.pyplot as plt\n",
        "\n",
        "loss = history.history['loss']\n",
        "val_loss = history.history['val_loss']\n",
        "\n",
        "epochs = range(1, len(loss) + 1)\n",
        "\n",
        "plt.plot(epochs, loss, 'bo', label='Training loss')\n",
        "plt.plot(epochs, val_loss, 'b', label='Validation loss')\n",
        "plt.title('Training and validation loss')\n",
        "plt.xlabel('Epochs')\n",
        "plt.ylabel('Loss')\n",
        "plt.legend()\n",
        "\n",
        "plt.show()"
      ],
      "execution_count": null,
      "outputs": [
        {
          "output_type": "display_data",
          "data": {
            "image/png": "[encoded data removed]",
            "text/plain": [
              "<Figure size 432x288 with 1 Axes>"
            ]
          },
          "metadata": {
            "tags": [],
            "needs_background": "light"
          }
        }
      ]
    },
    {
      "cell_type": "code",
      "metadata": {
        "id": "tILkBaUECNsq",
        "outputId": "bec4adcb-b446-45fa-b011-f0e38f3c4659",
        "colab": {
          "base_uri": "https://localhost:8080/",
          "height": 295
        }
      },
      "source": [
        "plt.clf() # 그래프를 초기화합니다.\n",
        "acc = history.history['accuracy']\n",
        "val_acc = history.history['val_accuracy']\n",
        "\n",
        "plt.plot(epochs, acc, 'bo', label='Training acc')\n",
        "plt.plot(epochs, val_acc, 'b', label='Validation acc')\n",
        "plt.title('Training and validation accuracy')\n",
        "plt.xlabel('Epochs')\n",
        "plt.ylabel('Accuracy')\n",
        "plt.legend()\n",
        "\n",
        "plt.show()"
      ],
      "execution_count": null,
      "outputs": [
        {
          "output_type": "display_data",
          "data": {
            "image/png": "[encoded data removed]",
            "text/plain": [
              "<Figure size 432x288 with 1 Axes>"
            ]
          },
          "metadata": {
            "tags": [],
            "needs_background": "light"
          }
        }
      ]
    },
    {
      "cell_type": "code",
      "metadata": {
        "id": "WbRFwGwcCShs",
        "outputId": "80cdd2da-b530-4126-b051-3642c0f1fca8",
        "colab": {
          "base_uri": "https://localhost:8080/",
          "height": 541
        }
      },
      "source": [
        "model = models.Sequential()\n",
        "model.add(layers.Dense(64, activation='relu', input_shape=(10000,)))\n",
        "model.add(layers.Dense(64, activation='relu'))\n",
        "model.add(layers.Dense(46, activation='softmax'))\n",
        "\n",
        "model.compile(optimizer='rmsprop',\n",
        "              loss='categorical_crossentropy',\n",
        "              metrics=['accuracy'])\n",
        "model.fit(partial_x_train,\n",
        "          partial_y_train,\n",
        "          epochs=13,    # 과적합이 13번째부터 생김 \n",
        "          batch_size=512,\n",
        "          validation_data=(x_val, y_val))\n",
        "results = model.evaluate(x_test, one_hot_test_labels)"
      ],
      "execution_count": null,
      "outputs": [
        {
          "output_type": "stream",
          "text": [
            "Epoch 1/13\n",
            "16/16 [==============================] - 1s 63ms/step - loss: 2.6555 - accuracy: 0.5362 - val_loss: 1.7261 - val_accuracy: 0.6530\n",
            "Epoch 2/13\n",
            "16/16 [==============================] - 1s 53ms/step - loss: 1.4088 - accuracy: 0.7073 - val_loss: 1.2754 - val_accuracy: 0.7210\n",
            "Epoch 3/13\n",
            "16/16 [==============================] - 1s 53ms/step - loss: 1.0372 - accuracy: 0.7757 - val_loss: 1.1104 - val_accuracy: 0.7460\n",
            "Epoch 4/13\n",
            "16/16 [==============================] - 1s 53ms/step - loss: 0.8123 - accuracy: 0.8264 - val_loss: 1.0137 - val_accuracy: 0.7810\n",
            "Epoch 5/13\n",
            "16/16 [==============================] - 1s 53ms/step - loss: 0.6473 - accuracy: 0.8647 - val_loss: 0.9560 - val_accuracy: 0.7840\n",
            "Epoch 6/13\n",
            "16/16 [==============================] - 1s 54ms/step - loss: 0.5159 - accuracy: 0.8959 - val_loss: 0.9056 - val_accuracy: 0.8130\n",
            "Epoch 7/13\n",
            "16/16 [==============================] - 1s 52ms/step - loss: 0.4140 - accuracy: 0.9131 - val_loss: 0.8853 - val_accuracy: 0.8050\n",
            "Epoch 8/13\n",
            "16/16 [==============================] - 1s 53ms/step - loss: 0.3368 - accuracy: 0.9296 - val_loss: 0.9280 - val_accuracy: 0.7930\n",
            "Epoch 9/13\n",
            "16/16 [==============================] - 1s 53ms/step - loss: 0.2779 - accuracy: 0.9376 - val_loss: 0.8805 - val_accuracy: 0.8170\n",
            "Epoch 10/13\n",
            "16/16 [==============================] - 1s 53ms/step - loss: 0.2387 - accuracy: 0.9435 - val_loss: 0.8942 - val_accuracy: 0.8140\n",
            "Epoch 11/13\n",
            "16/16 [==============================] - 1s 53ms/step - loss: 0.2040 - accuracy: 0.9493 - val_loss: 0.9310 - val_accuracy: 0.8110\n",
            "Epoch 12/13\n",
            "16/16 [==============================] - 1s 53ms/step - loss: 0.1804 - accuracy: 0.9519 - val_loss: 0.9271 - val_accuracy: 0.8000\n",
            "Epoch 13/13\n",
            "16/16 [==============================] - 1s 51ms/step - loss: 0.1596 - accuracy: 0.9543 - val_loss: 1.0057 - val_accuracy: 0.7900\n",
            "71/71 [==============================] - 0s 2ms/step - loss: 1.1524 - accuracy: 0.7734\n"
          ],
          "name": "stdout"
        }
      ]
    },
    {
      "cell_type": "code",
      "metadata": {
        "id": "MGsK8UuqD2dL",
        "outputId": "4b95fb21-69db-45bc-f6be-950e6ca0d9f5",
        "colab": {
          "base_uri": "https://localhost:8080/",
          "height": 36
        }
      },
      "source": [
        "results"
      ],
      "execution_count": null,
      "outputs": [
        {
          "output_type": "execute_result",
          "data": {
            "text/plain": [
              "[1.1524485349655151, 0.7733749151229858]"
            ]
          },
          "metadata": {
            "tags": []
          },
          "execution_count": 49
        }
      ]
    },
    {
      "cell_type": "markdown",
      "metadata": {
        "id": "7gZkuc6RF3P2"
      },
      "source": [
        "### 3.5.5 새로운 데이터에 대해 예측하기\n",
        "- 모델 인스턴스의 predict 메서드는 46개의 토픽에 대한 확률 분포를 반환"
      ]
    },
    {
      "cell_type": "code",
      "metadata": {
        "id": "eWbBURAfFIvd"
      },
      "source": [
        "predictions = model.predict(x_test)"
      ],
      "execution_count": null,
      "outputs": []
    },
    {
      "cell_type": "code",
      "metadata": {
        "id": "8xRahfhVFSFq",
        "outputId": "3ae5996c-8764-4a9f-8e57-0916e95fba73",
        "colab": {
          "base_uri": "https://localhost:8080/",
          "height": 36
        }
      },
      "source": [
        "predictions[0].shape"
      ],
      "execution_count": null,
      "outputs": [
        {
          "output_type": "execute_result",
          "data": {
            "text/plain": [
              "(46,)"
            ]
          },
          "metadata": {
            "tags": []
          },
          "execution_count": 54
        }
      ]
    },
    {
      "cell_type": "code",
      "metadata": {
        "id": "Jr7LvgW0Fx_2",
        "outputId": "2eba7404-1f10-4240-be51-3eaea95d7788",
        "colab": {
          "base_uri": "https://localhost:8080/",
          "height": 36
        }
      },
      "source": [
        "np.sum(predictions[0])"
      ],
      "execution_count": null,
      "outputs": [
        {
          "output_type": "execute_result",
          "data": {
            "text/plain": [
              "1.0"
            ]
          },
          "metadata": {
            "tags": []
          },
          "execution_count": 55
        }
      ]
    },
    {
      "cell_type": "code",
      "metadata": {
        "id": "oZxyeqT1F1Zt",
        "outputId": "210d512d-7b84-4e1a-a53d-5043a51e2429",
        "colab": {
          "base_uri": "https://localhost:8080/",
          "height": 36
        }
      },
      "source": [
        "np.argmax(predictions[0])"
      ],
      "execution_count": null,
      "outputs": [
        {
          "output_type": "execute_result",
          "data": {
            "text/plain": [
              "3"
            ]
          },
          "metadata": {
            "tags": []
          },
          "execution_count": 56
        }
      ]
    },
    {
      "cell_type": "markdown",
      "metadata": {
        "id": "cKDm3xtZGMQy"
      },
      "source": [
        "### 3.5.6 레이블과 손실을 다루는 다른 방법"
      ]
    },
    {
      "cell_type": "code",
      "metadata": {
        "id": "vTqHZtnjGBzr"
      },
      "source": [
        "#정수 텐서로 변환\n",
        "y_train = np.array(train_labels)\n",
        "y_test = np.array(test_labels)"
      ],
      "execution_count": null,
      "outputs": []
    },
    {
      "cell_type": "code",
      "metadata": {
        "id": "m237lDl3GROF"
      },
      "source": [
        "# 정수 레이블을 사용할 때는 sparse_categorical_crossentropy를 사용\n",
        "model.compile(optimizer='rmsprop',\n",
        "              loss='sparse_categorical_crossentropy',\n",
        "              metrics=['accuracy'])"
      ],
      "execution_count": null,
      "outputs": []
    },
    {
      "cell_type": "markdown",
      "metadata": {
        "id": "QOFjDv0AGhz7"
      },
      "source": [
        "### 3.5.7 충분히 큰 중간층을 두어야 하는 이유\n"
      ]
    },
    {
      "cell_type": "markdown",
      "metadata": {
        "id": "7jph-kbjHBOu"
      },
      "source": [
        "-. 46차원보다 훨씬 작은 중간층(예를 들어 4차원)을 두면 정보의 병목이 어떻게 나타남?검증 정확도의 최고 값은 약 71%로 8% 정도 감소되었습니다. 이런 손실의 원인 대부분은 많은 정보(클래스 46개의 분할 초평면을 복원하기에 충분한 정보)를 중간층의 저차원 표현 공간으로 압축하려고 했기 때문입니다. 이 네트워크는 필요한 정보 대부분을 4차원 표현 안에 구겨 넣었지만 전부는 넣지 못했습니다."
      ]
    },
    {
      "cell_type": "code",
      "metadata": {
        "id": "9r4uVZJWGSHr",
        "outputId": "5f29d296-bf78-46f1-8cc3-fe42ee624135",
        "colab": {
          "base_uri": "https://localhost:8080/",
          "height": 803
        }
      },
      "source": [
        "model = models.Sequential()\n",
        "model.add(layers.Dense(64, activation='relu', input_shape=(10000,)))\n",
        "model.add(layers.Dense(4, activation='relu'))\n",
        "model.add(layers.Dense(46, activation='softmax'))\n",
        "\n",
        "model.compile(optimizer='rmsprop',\n",
        "              loss='categorical_crossentropy',\n",
        "              metrics=['accuracy'])\n",
        "model.fit(partial_x_train,\n",
        "          partial_y_train,\n",
        "          epochs=20,\n",
        "          batch_size=128,\n",
        "          validation_data=(x_val, y_val))"
      ],
      "execution_count": null,
      "outputs": [
        {
          "output_type": "stream",
          "text": [
            "Epoch 1/20\n",
            "63/63 [==============================] - 1s 17ms/step - loss: 3.3925 - accuracy: 0.0738 - val_loss: 3.0031 - val_accuracy: 0.0950\n",
            "Epoch 2/20\n",
            "63/63 [==============================] - 1s 16ms/step - loss: 2.3823 - accuracy: 0.3941 - val_loss: 1.8454 - val_accuracy: 0.6420\n",
            "Epoch 3/20\n",
            "63/63 [==============================] - 1s 16ms/step - loss: 1.4277 - accuracy: 0.6787 - val_loss: 1.4107 - val_accuracy: 0.6780\n",
            "Epoch 4/20\n",
            "63/63 [==============================] - 1s 16ms/step - loss: 1.1509 - accuracy: 0.7144 - val_loss: 1.3497 - val_accuracy: 0.6710\n",
            "Epoch 5/20\n",
            "63/63 [==============================] - 1s 16ms/step - loss: 1.0207 - accuracy: 0.7368 - val_loss: 1.3039 - val_accuracy: 0.7030\n",
            "Epoch 6/20\n",
            "63/63 [==============================] - 1s 19ms/step - loss: 0.9206 - accuracy: 0.7682 - val_loss: 1.3151 - val_accuracy: 0.6980\n",
            "Epoch 7/20\n",
            "63/63 [==============================] - 1s 15ms/step - loss: 0.8390 - accuracy: 0.7917 - val_loss: 1.2982 - val_accuracy: 0.7110\n",
            "Epoch 8/20\n",
            "63/63 [==============================] - 1s 16ms/step - loss: 0.7695 - accuracy: 0.8076 - val_loss: 1.3013 - val_accuracy: 0.7120\n",
            "Epoch 9/20\n",
            "63/63 [==============================] - 1s 16ms/step - loss: 0.7108 - accuracy: 0.8221 - val_loss: 1.3388 - val_accuracy: 0.7200\n",
            "Epoch 10/20\n",
            "63/63 [==============================] - 1s 16ms/step - loss: 0.6619 - accuracy: 0.8320 - val_loss: 1.3782 - val_accuracy: 0.7160\n",
            "Epoch 11/20\n",
            "63/63 [==============================] - 1s 15ms/step - loss: 0.6173 - accuracy: 0.8389 - val_loss: 1.4288 - val_accuracy: 0.7140\n",
            "Epoch 12/20\n",
            "63/63 [==============================] - 1s 16ms/step - loss: 0.5802 - accuracy: 0.8477 - val_loss: 1.4433 - val_accuracy: 0.7200\n",
            "Epoch 13/20\n",
            "63/63 [==============================] - 1s 16ms/step - loss: 0.5475 - accuracy: 0.8545 - val_loss: 1.4808 - val_accuracy: 0.7240\n",
            "Epoch 14/20\n",
            "63/63 [==============================] - 1s 16ms/step - loss: 0.5167 - accuracy: 0.8604 - val_loss: 1.5275 - val_accuracy: 0.7210\n",
            "Epoch 15/20\n",
            "63/63 [==============================] - 1s 16ms/step - loss: 0.4912 - accuracy: 0.8668 - val_loss: 1.5828 - val_accuracy: 0.7170\n",
            "Epoch 16/20\n",
            "63/63 [==============================] - 1s 16ms/step - loss: 0.4701 - accuracy: 0.8706 - val_loss: 1.6511 - val_accuracy: 0.7100\n",
            "Epoch 17/20\n",
            "63/63 [==============================] - 1s 16ms/step - loss: 0.4498 - accuracy: 0.8760 - val_loss: 1.7258 - val_accuracy: 0.7110\n",
            "Epoch 18/20\n",
            "63/63 [==============================] - 1s 16ms/step - loss: 0.4282 - accuracy: 0.8839 - val_loss: 1.7562 - val_accuracy: 0.7170\n",
            "Epoch 19/20\n",
            "63/63 [==============================] - 1s 16ms/step - loss: 0.4120 - accuracy: 0.8914 - val_loss: 1.7777 - val_accuracy: 0.7210\n",
            "Epoch 20/20\n",
            "63/63 [==============================] - 1s 16ms/step - loss: 0.3956 - accuracy: 0.8965 - val_loss: 1.8593 - val_accuracy: 0.7150\n"
          ],
          "name": "stdout"
        },
        {
          "output_type": "execute_result",
          "data": {
            "text/plain": [
              "<tensorflow.python.keras.callbacks.History at 0x7fbcefb95a90>"
            ]
          },
          "metadata": {
            "tags": []
          },
          "execution_count": 60
        }
      ]
    },
    {
      "cell_type": "code",
      "metadata": {
        "id": "CzU-zDnJGpo9",
        "outputId": "f81c8ea1-d16b-40c6-8635-55918ec41362",
        "colab": {
          "base_uri": "https://localhost:8080/",
          "height": 36
        }
      },
      "source": [
        "results"
      ],
      "execution_count": null,
      "outputs": [
        {
          "output_type": "execute_result",
          "data": {
            "text/plain": [
              "[1.1524485349655151, 0.7733749151229858]"
            ]
          },
          "metadata": {
            "tags": []
          },
          "execution_count": 61
        }
      ]
    },
    {
      "cell_type": "code",
      "metadata": {
        "id": "bFgK3GD2G0t1"
      },
      "source": [
        ""
      ],
      "execution_count": null,
      "outputs": []
    }
  ]
}