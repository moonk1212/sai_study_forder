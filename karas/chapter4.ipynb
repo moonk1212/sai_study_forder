{
  "nbformat": 4,
  "nbformat_minor": 0,
  "metadata": {
    "colab": {
      "name": "chapter4.ipynb",
      "provenance": [],
      "collapsed_sections": []
    },
    "kernelspec": {
      "name": "python3",
      "display_name": "Python 3"
    }
  },
  "cells": [
    {
      "cell_type": "markdown",
      "metadata": {
        "id": "RK06EzD3vGuW"
      },
      "source": [
        "#### 4.1.1 지도 학습 \n",
        " \n",
        "지도 학습은 대부분 분류와 회귀로 구성\n",
        "\n",
        "- 시퀀스 생성: 사진이 주어지면 이를 설명하는 캡션을 생성 , 시퀀스 생성은 이따금(시퀀스에 있는 단어나 토큰을 반복적으로 예측하는 것처럼) 일련의 분류 문제로 재구성 가능\n",
        "- 구문 트리 예측: 문장이 주어지면 분해된 구문트리를 예측 \n",
        "- 물체 감지: 사진이 주어지면 사진 안의 특정 물체 중위에 경계 상자를 그림 \n",
        "- 이미지 분할 : 사진이 주어졌을 때 픽셀 단위로 특정 물체에 마스킹을 함\n",
        "\n",
        "#### 4.1.2 비지도 학습\n",
        "데이터 분석에서 핵심\n",
        "\n",
        "-차원 축소와 군집이 비지도 학습\n",
        "\n",
        "#### 4.1.3 자기 지도 학습\n",
        "\n",
        "지도학습이지만 학습과정에 사람이 개입하지 않는 지도 학습 \n",
        "\n",
        "ex. 오토인코더\n",
        "\n",
        "#### 4.1.4 강화학습 \n",
        "\n",
        "강화학습에서 에이전트는 환경에 대한 정보를 받아 보상을 최대화 하는 것\n",
        "\n",
        "#### 4.2.1 훈련, 검증, 테스트 세트\n",
        "\n",
        "- 단순 홀드아웃 검증 \n",
        "\n",
        "    데이터의 일정량을 테스트 세트로 떼어 놓음'\n",
        "    단점: 데이터가 적을 때는 검증 세트와 테스트 세트의 샘플이 너무 적어 전체 데이터를 통계적으로 대표하지 못함  \n",
        "    [예시 사진](https://t1.daumcdn.net/cfile/tistory/9955CF485E24EFD222)\n",
        "\n",
        "``` python\n",
        "\n",
        "num_validation_samples = 10000\n",
        "\n",
        "np.random.shuffle(data) # 데이터를 섞는 것(셔플링)이 일반적으로 좋다\n",
        "\n",
        "validation_data = data[:num_validation_samples] # 검증 세트를 만듬\n",
        "data = data[num_validation_samples:]\n",
        "\n",
        "training_data= data[:] # 훈련 세트를 만듬\n",
        "\n",
        "# 훈련 세트에서 모델을 훈련하고 검증 세트로 평가\n",
        "model = get_model()\n",
        "model.train(training_data)\n",
        "validation_score = model.evaluate(validation_data)\n",
        "\n",
        "# 하이퍼파라미터 튜닝이 끝나면 테스트 데이터를 제외한 모든 데이터를 사용하여 모델을 다시 훈련\n",
        "model = get_model()\n",
        "model.train(np.concatenate([training_data,\n",
        "                            validation_data]))\n",
        "test_score = model.evaluate(test_data)\n",
        "\n",
        "```\n",
        "\n",
        "- k-겹 교차 검증\n",
        "K 겹 교차 검증(Cross validation)이란 통계학에서 모델을 \"평가\" 하는 한 가지 방법입니다. \n",
        "- 소위 held-out validation 이라 불리는 전체 데이터의 일부를 validation set 으로 사용해 모델 성능을 평가하는 것의 문제는 데이터셋의 크기가 작은 경우 테스트셋에 대한 성능 평가의 신뢰성이 떨어지게 된다는 것입니다.\n",
        "- K-겹 교차 검증은 모든 데이터가 최소 한 번은 테스트셋으로 쓰이도록 합니다\n",
        "\n",
        "``` python\n",
        "k= 4\n",
        "num_validation_samples= len(data) //k\n",
        "np.random.shuffle(data)\n",
        "validation_scores = []\n",
        "for fold in range(k):\n",
        "    # 검증 데이터 부분을 선택 \n",
        "    validation_data = data[num_validation_samples*fold:\n",
        "                           num_validation_samples*(fold +1 )]\n",
        "    # 남은 데이터를 훈련 데이터로 사용, 리스트에서 + 연산자는 두 리스트를 더하는 것이 아니고 연결\n",
        "    trainig_data =data[:num_validation_samples*fold]+ data[num_validation_samples*(fold+1):]\n",
        "    \n",
        "    model = get_model() # 훈련되지 않은 새로운 모델을 만듬\n",
        "    model.train(training_data)\n",
        "    validation_score = model.evaluate(validation_data)\n",
        "    validation_scores.append(validation_scores) \n",
        "validation_score = np.average(validation_scores) # 검증 점수: K개 폴드의 검증 점수 평균\n",
        "\n",
        "# 테스트 데이터를 제외한 전체 데이터로 최종 모델을 훈련 됩니다.\n",
        "model = get_model()\n",
        "model.train(data)\n",
        "test_score = model.evaluate(test_data)\n",
        "\n",
        "```\n",
        "- 셔플링을 사용한 반복 k- 겹 교차 검증: 가용 데아터가 적고 가능한 정확한 모델을 만들때 \n",
        "- 결국  PxK개(p는 반복 횟수)\n",
        "\n",
        "### 4.3 데이터 전처리,특성 공학,특성 학습\n",
        "\n",
        "#### 4.3.1 신경망을 위한 데이터 전처리 \n",
        "\n",
        "- 벡터화,정규화,누락된 값 다루기,특성 추출\n",
        "    \n",
        "    신경망에서 모든 입력과 타깃은 부동 소수 데이터로 이루어진 텐서여야함\n",
        "\n",
        "- 값 정규화\n",
        "- 누락된 값 다루기 \n",
        "\n",
        "    테스트 데이터에 누락된 값이 포함 될 가능성이 있다고 가정\n",
        "\n",
        "#### 4.3.2 특성 공학 \n",
        "- 최근 딥러닝에선 불필요 \n",
        "- 좋은 특성은 적은 자원을 사용하여 문제를 더 멋지게 풀어낼 수 있음 \n",
        "- 좋은 특성은 더 적은 데이터로 문제를 풀 수 있음\n",
        "\n",
        "#### 4.4 과대적합과 과소적합\n",
        "\n",
        "- 과대 적합 : 모델이 훈련 데이터에 너무 잘 맞지만 일반성이 떨어진다는 의미\n",
        "   \n",
        "    해결 방법\n",
        "    1. 훈련 데이터를 더 많이 모음\n",
        "    2. 정규화(Regularization) - 규제(제약 조건), 드롭-아웃 등 다양한 방법을 이용해서 적당한 복잡도를 가지는 모델을 자동적으로 찾아주는 기법\n",
        "    3. 훈련 데이터 잡음을 줄임(오류 수정과 이상치 제거)\n",
        "- 과소 적합 :  모델이 너무 단순해서 데이터의 내재된 구조를 학습하지 못할 때 발생\n",
        "    \n",
        "    해결방법\n",
        "    1. 파라미터가 더 많은 복잡한 모델을 선택\n",
        "    2. 모델의 제약을 줄이기(규제 하이퍼파라미터 값 줄이기)\n",
        "    3. 조기종료 시점(overfitting이 되기 전의 시점)까지 충분히 학습\n",
        "\n",
        "##### 4.4.1 네트워크 크기 축소\n",
        "\n",
        "- 과대 적합을 막는 방법: 모델의 크기,즉 모델에 있는 학습 파라미터의 수를 줄이는 것 \n"
      ]
    },
    {
      "cell_type": "code",
      "metadata": {
        "id": "td8c02BJdGcQ"
      },
      "source": [
        "from keras.datasets import imdb\n",
        "import numpy as np\n",
        "\n",
        "(train_data, train_labels), (test_data, test_labels) = imdb.load_data(num_words=10000)\n",
        "\n",
        "def vectorize_sequences(sequences, dimension=10000):\n",
        "    # 크기가 (len(sequences), dimension))이고 모든 원소가 0인 행렬을 만듭니다\n",
        "    results = np.zeros((len(sequences), dimension))\n",
        "    for i, sequence in enumerate(sequences):\n",
        "        results[i, sequence] = 1.  # results[i]에서 특정 인덱스의 위치를 1로 만듭니다\n",
        "    return results\n",
        "\n",
        "# 훈련 데이터를 벡터로 변환합니다\n",
        "x_train = vectorize_sequences(train_data)\n",
        "# 테스트 데이터를 벡터로 변환합니다\n",
        "x_test = vectorize_sequences(test_data)\n",
        "# 레이블을 벡터로 변환합니다\n",
        "y_train = np.asarray(train_labels).astype('float32')\n",
        "y_test = np.asarray(test_labels).astype('float32')"
      ],
      "execution_count": 2,
      "outputs": []
    },
    {
      "cell_type": "code",
      "metadata": {
        "id": "kftC47x2vDjO"
      },
      "source": [
        "from keras import models\n",
        "from keras import layers\n",
        "\n",
        "original_model = models.Sequential()\n",
        "original_model.add(layers.Dense(16, activation='relu', input_shape=(10000,)))\n",
        "original_model.add(layers.Dense(16, activation='relu'))\n",
        "original_model.add(layers.Dense(1, activation='sigmoid'))\n",
        "\n",
        "original_model.compile(optimizer='rmsprop',\n",
        "                       loss='binary_crossentropy',\n",
        "                       metrics=['acc'])"
      ],
      "execution_count": 3,
      "outputs": []
    },
    {
      "cell_type": "markdown",
      "metadata": {
        "id": "O9uUABvm3tLD"
      },
      "source": [
        ""
      ]
    },
    {
      "cell_type": "code",
      "metadata": {
        "id": "eGKLgDuU2E5t"
      },
      "source": [
        "smaller_model = models.Sequential()\n",
        "smaller_model.add(layers.Dense(6, activation='relu', input_shape=(10000,)))\n",
        "smaller_model.add(layers.Dense(6, activation='relu'))\n",
        "smaller_model.add(layers.Dense(1, activation='sigmoid'))\n",
        "\n",
        "smaller_model.compile(optimizer='rmsprop',\n",
        "                      loss='binary_crossentropy',\n",
        "                      metrics=['acc'])"
      ],
      "execution_count": 4,
      "outputs": []
    },
    {
      "cell_type": "code",
      "metadata": {
        "id": "jCO68iwRdd55",
        "outputId": "e0a5de34-08ed-4ce5-b925-76a768b50787",
        "colab": {
          "base_uri": "https://localhost:8080/"
        }
      },
      "source": [
        "\n",
        "original_hist = original_model.fit(x_train, y_train,\n",
        "                                   epochs=20,\n",
        "                                   batch_size=512,\n",
        "                                   validation_data=(x_test, y_test))\n"
      ],
      "execution_count": 5,
      "outputs": [
        {
          "output_type": "stream",
          "text": [
            "Epoch 1/20\n",
            "49/49 [==============================] - 1s 30ms/step - loss: 0.4473 - acc: 0.8254 - val_loss: 0.3359 - val_acc: 0.8773\n",
            "Epoch 2/20\n",
            "49/49 [==============================] - 1s 22ms/step - loss: 0.2555 - acc: 0.9120 - val_loss: 0.2906 - val_acc: 0.8852\n",
            "Epoch 3/20\n",
            "49/49 [==============================] - 1s 21ms/step - loss: 0.1975 - acc: 0.9307 - val_loss: 0.3061 - val_acc: 0.8762\n",
            "Epoch 4/20\n",
            "49/49 [==============================] - 1s 21ms/step - loss: 0.1670 - acc: 0.9408 - val_loss: 0.2936 - val_acc: 0.8830\n",
            "Epoch 5/20\n",
            "49/49 [==============================] - 1s 21ms/step - loss: 0.1439 - acc: 0.9496 - val_loss: 0.3391 - val_acc: 0.8722\n",
            "Epoch 6/20\n",
            "49/49 [==============================] - 1s 21ms/step - loss: 0.1292 - acc: 0.9554 - val_loss: 0.3587 - val_acc: 0.8674\n",
            "Epoch 7/20\n",
            "49/49 [==============================] - 1s 21ms/step - loss: 0.1131 - acc: 0.9610 - val_loss: 0.3574 - val_acc: 0.8726\n",
            "Epoch 8/20\n",
            "49/49 [==============================] - 1s 22ms/step - loss: 0.1015 - acc: 0.9659 - val_loss: 0.3825 - val_acc: 0.8688\n",
            "Epoch 9/20\n",
            "49/49 [==============================] - 1s 22ms/step - loss: 0.0902 - acc: 0.9705 - val_loss: 0.4076 - val_acc: 0.8660\n",
            "Epoch 10/20\n",
            "49/49 [==============================] - 1s 21ms/step - loss: 0.0793 - acc: 0.9736 - val_loss: 0.4531 - val_acc: 0.8603\n",
            "Epoch 11/20\n",
            "49/49 [==============================] - 1s 22ms/step - loss: 0.0714 - acc: 0.9766 - val_loss: 0.4676 - val_acc: 0.8616\n",
            "Epoch 12/20\n",
            "49/49 [==============================] - 1s 21ms/step - loss: 0.0618 - acc: 0.9804 - val_loss: 0.5104 - val_acc: 0.8590\n",
            "Epoch 13/20\n",
            "49/49 [==============================] - 1s 22ms/step - loss: 0.0540 - acc: 0.9848 - val_loss: 0.5555 - val_acc: 0.8504\n",
            "Epoch 14/20\n",
            "49/49 [==============================] - 1s 22ms/step - loss: 0.0487 - acc: 0.9857 - val_loss: 0.5707 - val_acc: 0.8530\n",
            "Epoch 15/20\n",
            "49/49 [==============================] - 1s 22ms/step - loss: 0.0418 - acc: 0.9879 - val_loss: 0.6061 - val_acc: 0.8511\n",
            "Epoch 16/20\n",
            "49/49 [==============================] - 1s 22ms/step - loss: 0.0361 - acc: 0.9898 - val_loss: 0.6601 - val_acc: 0.8467\n",
            "Epoch 17/20\n",
            "49/49 [==============================] - 1s 23ms/step - loss: 0.0325 - acc: 0.9906 - val_loss: 0.6692 - val_acc: 0.8525\n",
            "Epoch 18/20\n",
            "49/49 [==============================] - 1s 21ms/step - loss: 0.0262 - acc: 0.9932 - val_loss: 0.7581 - val_acc: 0.8406\n",
            "Epoch 19/20\n",
            "49/49 [==============================] - 1s 22ms/step - loss: 0.0221 - acc: 0.9947 - val_loss: 0.7486 - val_acc: 0.8492\n",
            "Epoch 20/20\n",
            "49/49 [==============================] - 1s 22ms/step - loss: 0.0203 - acc: 0.9951 - val_loss: 0.7844 - val_acc: 0.8480\n"
          ],
          "name": "stdout"
        }
      ]
    },
    {
      "cell_type": "code",
      "metadata": {
        "id": "HPoIlr1Ndg3I",
        "outputId": "eeb2ae4a-9a3e-4ae6-de6f-875643135650",
        "colab": {
          "base_uri": "https://localhost:8080/"
        }
      },
      "source": [
        "smaller_model_hist = smaller_model.fit(x_train, y_train,\n",
        "                                       epochs=20,\n",
        "                                       batch_size=512,\n",
        "                                       validation_data=(x_test, y_test))"
      ],
      "execution_count": 6,
      "outputs": [
        {
          "output_type": "stream",
          "text": [
            "Epoch 1/20\n",
            "49/49 [==============================] - 1s 27ms/step - loss: 0.5058 - acc: 0.8211 - val_loss: 0.4109 - val_acc: 0.8627\n",
            "Epoch 2/20\n",
            "49/49 [==============================] - 1s 20ms/step - loss: 0.3175 - acc: 0.9023 - val_loss: 0.3161 - val_acc: 0.8870\n",
            "Epoch 3/20\n",
            "49/49 [==============================] - 1s 21ms/step - loss: 0.2409 - acc: 0.9211 - val_loss: 0.2908 - val_acc: 0.8863\n",
            "Epoch 4/20\n",
            "49/49 [==============================] - 1s 20ms/step - loss: 0.1997 - acc: 0.9332 - val_loss: 0.2796 - val_acc: 0.8891\n",
            "Epoch 5/20\n",
            "49/49 [==============================] - 1s 20ms/step - loss: 0.1726 - acc: 0.9419 - val_loss: 0.2895 - val_acc: 0.8847\n",
            "Epoch 6/20\n",
            "49/49 [==============================] - 1s 20ms/step - loss: 0.1529 - acc: 0.9488 - val_loss: 0.3067 - val_acc: 0.8788\n",
            "Epoch 7/20\n",
            "49/49 [==============================] - 1s 20ms/step - loss: 0.1368 - acc: 0.9548 - val_loss: 0.3052 - val_acc: 0.8815\n",
            "Epoch 8/20\n",
            "49/49 [==============================] - 1s 20ms/step - loss: 0.1234 - acc: 0.9606 - val_loss: 0.3220 - val_acc: 0.8791\n",
            "Epoch 9/20\n",
            "49/49 [==============================] - 1s 20ms/step - loss: 0.1129 - acc: 0.9630 - val_loss: 0.3420 - val_acc: 0.8742\n",
            "Epoch 10/20\n",
            "49/49 [==============================] - 1s 20ms/step - loss: 0.1027 - acc: 0.9669 - val_loss: 0.3566 - val_acc: 0.8737\n",
            "Epoch 11/20\n",
            "49/49 [==============================] - 1s 20ms/step - loss: 0.0933 - acc: 0.9708 - val_loss: 0.3769 - val_acc: 0.8708\n",
            "Epoch 12/20\n",
            "49/49 [==============================] - 1s 20ms/step - loss: 0.0862 - acc: 0.9733 - val_loss: 0.3956 - val_acc: 0.8682\n",
            "Epoch 13/20\n",
            "49/49 [==============================] - 1s 20ms/step - loss: 0.0785 - acc: 0.9763 - val_loss: 0.4163 - val_acc: 0.8665\n",
            "Epoch 14/20\n",
            "49/49 [==============================] - 1s 20ms/step - loss: 0.0721 - acc: 0.9789 - val_loss: 0.4539 - val_acc: 0.8585\n",
            "Epoch 15/20\n",
            "49/49 [==============================] - 1s 20ms/step - loss: 0.0661 - acc: 0.9804 - val_loss: 0.4655 - val_acc: 0.8597\n",
            "Epoch 16/20\n",
            "49/49 [==============================] - 1s 20ms/step - loss: 0.0598 - acc: 0.9830 - val_loss: 0.4922 - val_acc: 0.8578\n",
            "Epoch 17/20\n",
            "49/49 [==============================] - 1s 20ms/step - loss: 0.0554 - acc: 0.9842 - val_loss: 0.5159 - val_acc: 0.8555\n",
            "Epoch 18/20\n",
            "49/49 [==============================] - 1s 20ms/step - loss: 0.0493 - acc: 0.9869 - val_loss: 0.5334 - val_acc: 0.8585\n",
            "Epoch 19/20\n",
            "49/49 [==============================] - 1s 20ms/step - loss: 0.0455 - acc: 0.9872 - val_loss: 0.5634 - val_acc: 0.8555\n",
            "Epoch 20/20\n",
            "49/49 [==============================] - 1s 20ms/step - loss: 0.0407 - acc: 0.9891 - val_loss: 0.5886 - val_acc: 0.8547\n"
          ],
          "name": "stdout"
        }
      ]
    },
    {
      "cell_type": "code",
      "metadata": {
        "id": "sl6h27icdm5_"
      },
      "source": [
        "epochs = range(1, 21)\n",
        "original_val_loss = original_hist.history['val_loss']\n",
        "smaller_model_val_loss = smaller_model_hist.history['val_loss']"
      ],
      "execution_count": 7,
      "outputs": []
    },
    {
      "cell_type": "code",
      "metadata": {
        "id": "zMpVBVxzdq2A",
        "outputId": "19b5136e-f912-4ec7-d138-e57dd2c2c096",
        "colab": {
          "base_uri": "https://localhost:8080/",
          "height": 280
        }
      },
      "source": [
        "import matplotlib.pyplot as plt\n",
        "# ‘b+’는 파란색 덧셈 기호을 의미합니다\n",
        "plt.plot(epochs, original_val_loss, 'b+', label='Original model')\n",
        "# ‘bo’는 파란색 점을 의미합니다\n",
        "plt.plot(epochs, smaller_model_val_loss, 'bo', label='Smaller model')\n",
        "plt.xlabel('Epochs')\n",
        "plt.ylabel('Validation loss')\n",
        "plt.legend()\n",
        "\n",
        "plt.show()"
      ],
      "execution_count": 8,
      "outputs": [
        {
          "output_type": "display_data",
          "data": {
            "image/png": "[encoded data removed]",
            "text/plain": [
              "<Figure size 432x288 with 1 Axes>"
            ]
          },
          "metadata": {
            "tags": [],
            "needs_background": "light"
          }
        }
      ]
    },
    {
      "cell_type": "code",
      "metadata": {
        "id": "WDx0fUlnZwhN"
      },
      "source": [
        "\n",
        "bigger_model = models.Sequential()\n",
        "bigger_model.add(layers.Dense(1024, activation='relu', input_shape=(10000,)))\n",
        "bigger_model.add(layers.Dense(1024, activation='relu'))\n",
        "bigger_model.add(layers.Dense(1, activation='sigmoid'))\n",
        "\n",
        "bigger_model.compile(optimizer='rmsprop',\n",
        "                     loss='binary_crossentropy',\n",
        "                     metrics=['acc'])"
      ],
      "execution_count": 9,
      "outputs": []
    },
    {
      "cell_type": "code",
      "metadata": {
        "id": "OL6MhC1qZ_RH",
        "outputId": "63430ab1-2222-4521-e441-7c367425cdb7",
        "colab": {
          "base_uri": "https://localhost:8080/"
        }
      },
      "source": [
        "\n",
        "bigger_model_hist = bigger_model.fit(x_train, y_train,\n",
        "                                     epochs=20,\n",
        "                                     batch_size=512,\n",
        "                                     validation_data=(x_test, y_test))"
      ],
      "execution_count": 12,
      "outputs": [
        {
          "output_type": "stream",
          "text": [
            "Epoch 1/20\n",
            "49/49 [==============================] - 29s 583ms/step - loss: 8.0294e-04 - acc: 1.0000 - val_loss: 0.6526 - val_acc: 0.8832\n",
            "Epoch 2/20\n",
            "49/49 [==============================] - 28s 579ms/step - loss: 6.7274e-05 - acc: 1.0000 - val_loss: 0.8420 - val_acc: 0.8799\n",
            "Epoch 3/20\n",
            "49/49 [==============================] - 28s 580ms/step - loss: 7.4986e-06 - acc: 1.0000 - val_loss: 0.9434 - val_acc: 0.8831\n",
            "Epoch 4/20\n",
            "49/49 [==============================] - 28s 579ms/step - loss: 7.5414e-07 - acc: 1.0000 - val_loss: 1.1089 - val_acc: 0.8836\n",
            "Epoch 5/20\n",
            "49/49 [==============================] - 28s 578ms/step - loss: 1.1237e-07 - acc: 1.0000 - val_loss: 1.2253 - val_acc: 0.8833\n",
            "Epoch 6/20\n",
            "49/49 [==============================] - 28s 579ms/step - loss: 3.0179e-08 - acc: 1.0000 - val_loss: 1.3037 - val_acc: 0.8838\n",
            "Epoch 7/20\n",
            "49/49 [==============================] - 28s 578ms/step - loss: 1.4703e-08 - acc: 1.0000 - val_loss: 1.3428 - val_acc: 0.8836\n",
            "Epoch 8/20\n",
            "49/49 [==============================] - 28s 580ms/step - loss: 9.6817e-09 - acc: 1.0000 - val_loss: 1.3679 - val_acc: 0.8838\n",
            "Epoch 9/20\n",
            "49/49 [==============================] - 29s 584ms/step - loss: 7.2573e-09 - acc: 1.0000 - val_loss: 1.3865 - val_acc: 0.8837\n",
            "Epoch 10/20\n",
            "49/49 [==============================] - 29s 586ms/step - loss: 5.8177e-09 - acc: 1.0000 - val_loss: 1.4017 - val_acc: 0.8838\n",
            "Epoch 11/20\n",
            "49/49 [==============================] - 29s 586ms/step - loss: 4.8621e-09 - acc: 1.0000 - val_loss: 1.4138 - val_acc: 0.8838\n",
            "Epoch 12/20\n",
            "49/49 [==============================] - 29s 586ms/step - loss: 4.1924e-09 - acc: 1.0000 - val_loss: 1.4234 - val_acc: 0.8837\n",
            "Epoch 13/20\n",
            "49/49 [==============================] - 29s 587ms/step - loss: 3.6763e-09 - acc: 1.0000 - val_loss: 1.4332 - val_acc: 0.8836\n",
            "Epoch 14/20\n",
            "49/49 [==============================] - 29s 586ms/step - loss: 3.2888e-09 - acc: 1.0000 - val_loss: 1.4417 - val_acc: 0.8838\n",
            "Epoch 15/20\n",
            "49/49 [==============================] - 29s 586ms/step - loss: 2.9974e-09 - acc: 1.0000 - val_loss: 1.4483 - val_acc: 0.8837\n",
            "Epoch 16/20\n",
            "49/49 [==============================] - 29s 585ms/step - loss: 2.7423e-09 - acc: 1.0000 - val_loss: 1.4542 - val_acc: 0.8836\n",
            "Epoch 17/20\n",
            "49/49 [==============================] - 29s 601ms/step - loss: 2.5354e-09 - acc: 1.0000 - val_loss: 1.4607 - val_acc: 0.8838\n",
            "Epoch 18/20\n",
            "49/49 [==============================] - 28s 579ms/step - loss: 2.3722e-09 - acc: 1.0000 - val_loss: 1.4660 - val_acc: 0.8839\n",
            "Epoch 19/20\n",
            "49/49 [==============================] - 28s 579ms/step - loss: 2.2244e-09 - acc: 1.0000 - val_loss: 1.4710 - val_acc: 0.8841\n",
            "Epoch 20/20\n",
            "49/49 [==============================] - 28s 580ms/step - loss: 2.0984e-09 - acc: 1.0000 - val_loss: 1.4758 - val_acc: 0.8844\n"
          ],
          "name": "stdout"
        }
      ]
    },
    {
      "cell_type": "code",
      "metadata": {
        "id": "g2caRtD9d5pH",
        "outputId": "6edf12fc-0db3-479f-b06b-1a59a32a2d4d",
        "colab": {
          "base_uri": "https://localhost:8080/",
          "height": 279
        }
      },
      "source": [
        "bigger_model_val_loss = bigger_model_hist.history['val_loss']\n",
        "\n",
        "plt.plot(epochs, original_val_loss, 'b+', label='Original model')\n",
        "plt.plot(epochs, bigger_model_val_loss, 'bo', label='Bigger model')\n",
        "plt.xlabel('Epochs')\n",
        "plt.ylabel('Validation loss')\n",
        "plt.legend()\n",
        "\n",
        "plt.show()"
      ],
      "execution_count": 13,
      "outputs": [
        {
          "output_type": "display_data",
          "data": {
            "image/png": "[encoded data removed]",
            "text/plain": [
              "<Figure size 432x288 with 1 Axes>"
            ]
          },
          "metadata": {
            "tags": [],
            "needs_background": "light"
          }
        }
      ]
    },
    {
      "cell_type": "code",
      "metadata": {
        "id": "wiVO2ilZd-xl",
        "outputId": "8f7a89c1-65da-4f2b-9f6b-b3a17b31b943",
        "colab": {
          "base_uri": "https://localhost:8080/",
          "height": 279
        }
      },
      "source": [
        "\n",
        "original_train_loss = original_hist.history['loss']\n",
        "bigger_model_train_loss = bigger_model_hist.history['loss']\n",
        "\n",
        "plt.plot(epochs, original_train_loss, 'b+', label='Original model')\n",
        "plt.plot(epochs, bigger_model_train_loss, 'bo', label='Bigger model')\n",
        "plt.xlabel('Epochs')\n",
        "plt.ylabel('Training loss')\n",
        "plt.legend()\n",
        "\n",
        "plt.show()"
      ],
      "execution_count": 14,
      "outputs": [
        {
          "output_type": "display_data",
          "data": {
            "image/png": "[encoded data removed]",
            "text/plain": [
              "<Figure size 432x288 with 1 Axes>"
            ]
          },
          "metadata": {
            "tags": [],
            "needs_background": "light"
          }
        }
      ]
    },
    {
      "cell_type": "markdown",
      "metadata": {
        "id": "OseYOioCjfvJ"
      },
      "source": [
        "- 용량이 큰 네트워크는 첫 번째 에포크 이후 거의 바로 과대적합이 시작되어 갈수록 더 심해짐  \n",
        "- 여기서 볼 수 있듯이 용량이 큰네트워크는 훈련 손실이 매우 빠르게 0에 가까워잡나더, \n",
        "- 용량이 많은 네트워크일수록 더 빠르게 훈련데이터를 모델링을 할 수 있다.(결국 훈련 손실이 낮아짐 but 과대 적합에 민감해짐 )\n",
        "\n",
        "#### 4.4.2 가중치 규제 추가\n",
        "- 오캄의 면도날(Occam’s razor)에 따르면 더 적은 가정이 필요한 간단한 설명이 옳다. 이는 신경망으로 학습되는 모델에도 적용된다.\n",
        "    - 어떤 훈련 데이터와 네트워크 구조가 주어졌을 때 데이터를 설명할 수 있는 가중치 값의 집합은 여러 개이다. 간단한 모델이 복잡한 모델보다 덜 과대적합될 가능성이 높다.\n",
        "- 여기에서 간단한 모델은 파라미터 값 분포의 엔트로피가 작은 모델이다. 그러므로 과대적합을 완화하기 위한 일반적인 방법은 네트워크 복잡도에 제한을 두어 가중치가 작은 값을 가지도록 강제하는 것이다.\n",
        "    - 가중치 값의 분포가 더 균일하게 된다. 이를 가중치 규제(weight regularization)이라고 하며, 네트워크의 손실 함수에 큰 가중치에 연관된 비용을 추가한다. 두가지 형태의 비용이 있다.\n",
        "    - L1 규제: 가중치의 절댓값에 비례하는 비용이 추가된다. (가중치의 L1 노름(norm))\n",
        "    - L2 규제: 가중치의 제곱에 비례하는 비용이 추가된다. (가중치의 L2 노름). L2 규제는 신경망에서 가중치 감쇠(weight decay)라고 한다. 가중치 감쇠는 수학적으로 L2 규제와 동일하다.\n",
        "- 케라스에서 가중치 규제 객체를 층의 키워드 매개변수로 전달해서 가중치 규제를 추가할 수 있다.\n"
      ]
    },
    {
      "cell_type": "markdown",
      "metadata": {
        "id": "UHm6tMVlk9mX"
      },
      "source": [
        ""
      ]
    },
    {
      "cell_type": "code",
      "metadata": {
        "id": "UvnrcHSZlxWf"
      },
      "source": [
        "\n",
        "from keras import regularizers\n",
        "\n",
        "l2_model = models.Sequential()\n",
        "l2_model.add(layers.Dense(16, kernel_regularizer=regularizers.l2(0.001),\n",
        "                          activation='relu', input_shape=(10000,)))\n",
        "l2_model.add(layers.Dense(16, kernel_regularizer=regularizers.l2(0.001),\n",
        "                          activation='relu'))\n",
        "l2_model.add(layers.Dense(1, activation='sigmoid'))\n",
        "l2_model.compile(optimizer='rmsprop',\n",
        "                 loss='binary_crossentropy',\n",
        "                 metrics=['acc'])"
      ],
      "execution_count": 16,
      "outputs": []
    },
    {
      "cell_type": "code",
      "metadata": {
        "id": "-Ucq6EBHlygy",
        "outputId": "4289ed62-4569-4e6f-a983-84343bbd79a2",
        "colab": {
          "base_uri": "https://localhost:8080/"
        }
      },
      "source": [
        "\n",
        "l2_model_hist = l2_model.fit(x_train, y_train,\n",
        "                             epochs=20,\n",
        "                             batch_size=512,\n",
        "                             validation_data=(x_test, y_test))"
      ],
      "execution_count": 17,
      "outputs": [
        {
          "output_type": "stream",
          "text": [
            "Epoch 1/20\n",
            "49/49 [==============================] - 1s 28ms/step - loss: 0.5145 - acc: 0.8082 - val_loss: 0.4011 - val_acc: 0.8754\n",
            "Epoch 2/20\n",
            "49/49 [==============================] - 1s 23ms/step - loss: 0.3277 - acc: 0.9054 - val_loss: 0.3408 - val_acc: 0.8877\n",
            "Epoch 3/20\n",
            "49/49 [==============================] - 1s 22ms/step - loss: 0.2769 - acc: 0.9188 - val_loss: 0.3313 - val_acc: 0.8886\n",
            "Epoch 4/20\n",
            "49/49 [==============================] - 1s 22ms/step - loss: 0.2533 - acc: 0.9280 - val_loss: 0.3341 - val_acc: 0.8862\n",
            "Epoch 5/20\n",
            "49/49 [==============================] - 1s 22ms/step - loss: 0.2375 - acc: 0.9350 - val_loss: 0.3446 - val_acc: 0.8818\n",
            "Epoch 6/20\n",
            "49/49 [==============================] - 1s 22ms/step - loss: 0.2292 - acc: 0.9379 - val_loss: 0.3492 - val_acc: 0.8803\n",
            "Epoch 7/20\n",
            "49/49 [==============================] - 1s 22ms/step - loss: 0.2223 - acc: 0.9402 - val_loss: 0.3768 - val_acc: 0.8702\n",
            "Epoch 8/20\n",
            "49/49 [==============================] - 1s 23ms/step - loss: 0.2166 - acc: 0.9418 - val_loss: 0.3551 - val_acc: 0.8801\n",
            "Epoch 9/20\n",
            "49/49 [==============================] - 1s 22ms/step - loss: 0.2090 - acc: 0.9455 - val_loss: 0.3723 - val_acc: 0.8739\n",
            "Epoch 10/20\n",
            "49/49 [==============================] - 1s 22ms/step - loss: 0.2091 - acc: 0.9448 - val_loss: 0.3766 - val_acc: 0.8745\n",
            "Epoch 11/20\n",
            "49/49 [==============================] - 1s 22ms/step - loss: 0.2046 - acc: 0.9469 - val_loss: 0.3742 - val_acc: 0.8749\n",
            "Epoch 12/20\n",
            "49/49 [==============================] - 1s 22ms/step - loss: 0.2002 - acc: 0.9474 - val_loss: 0.3798 - val_acc: 0.8742\n",
            "Epoch 13/20\n",
            "49/49 [==============================] - 1s 22ms/step - loss: 0.1971 - acc: 0.9488 - val_loss: 0.4096 - val_acc: 0.8656\n",
            "Epoch 14/20\n",
            "49/49 [==============================] - 1s 22ms/step - loss: 0.1942 - acc: 0.9507 - val_loss: 0.4084 - val_acc: 0.8679\n",
            "Epoch 15/20\n",
            "49/49 [==============================] - 1s 22ms/step - loss: 0.1920 - acc: 0.9516 - val_loss: 0.4430 - val_acc: 0.8586\n",
            "Epoch 16/20\n",
            "49/49 [==============================] - 1s 22ms/step - loss: 0.1926 - acc: 0.9507 - val_loss: 0.4010 - val_acc: 0.8702\n",
            "Epoch 17/20\n",
            "49/49 [==============================] - 1s 23ms/step - loss: 0.1895 - acc: 0.9525 - val_loss: 0.4299 - val_acc: 0.8633\n",
            "Epoch 18/20\n",
            "49/49 [==============================] - 1s 22ms/step - loss: 0.1861 - acc: 0.9527 - val_loss: 0.4072 - val_acc: 0.8704\n",
            "Epoch 19/20\n",
            "49/49 [==============================] - 1s 23ms/step - loss: 0.1880 - acc: 0.9520 - val_loss: 0.4100 - val_acc: 0.8700\n",
            "Epoch 20/20\n",
            "49/49 [==============================] - 1s 22ms/step - loss: 0.1806 - acc: 0.9549 - val_loss: 0.4169 - val_acc: 0.8686\n"
          ],
          "name": "stdout"
        }
      ]
    },
    {
      "cell_type": "code",
      "metadata": {
        "id": "pm1idCErl3RC",
        "outputId": "99089142-dee5-40b8-e428-4fc5343d30b7",
        "colab": {
          "base_uri": "https://localhost:8080/",
          "height": 280
        }
      },
      "source": [
        "\n",
        "l2_model_val_loss = l2_model_hist.history['val_loss']\n",
        "\n",
        "plt.plot(epochs, original_val_loss, 'b+', label='Original model')\n",
        "plt.plot(epochs, l2_model_val_loss, 'bo', label='L2-regularized model')\n",
        "plt.xlabel('Epochs')\n",
        "plt.ylabel('Validation loss')\n",
        "plt.legend()\n",
        "\n",
        "plt.show()"
      ],
      "execution_count": 18,
      "outputs": [
        {
          "output_type": "display_data",
          "data": {
            "image/png": "[encoded data removed]",
            "text/plain": [
              "<Figure size 432x288 with 1 Axes>"
            ]
          },
          "metadata": {
            "tags": [],
            "needs_background": "light"
          }
        }
      ]
    },
    {
      "cell_type": "code",
      "metadata": {
        "id": "YZUM9timl5t_",
        "outputId": "49bfcda5-aab5-47a7-d0ed-385af2483cb9",
        "colab": {
          "base_uri": "https://localhost:8080/"
        }
      },
      "source": [
        "from keras import regularizers\n",
        "\n",
        "# L1 규제\n",
        "regularizers.l1(0.001)\n",
        "\n",
        "# L1과 L2 규제 병행\n",
        "regularizers.l1_l2(l1=0.001, l2=0.001)"
      ],
      "execution_count": 19,
      "outputs": [
        {
          "output_type": "execute_result",
          "data": {
            "text/plain": [
              "<tensorflow.python.keras.regularizers.L1L2 at 0x7fbe43a04cc0>"
            ]
          },
          "metadata": {
            "tags": []
          },
          "execution_count": 19
        }
      ]
    },
    {
      "cell_type": "code",
      "metadata": {
        "id": "IoxpwNCll7gr"
      },
      "source": [
        "\n",
        "l1_model = models.Sequential()\n",
        "l1_model.add(layers.Dense(16, kernel_regularizer=regularizers.l1(0.0001),\n",
        "                          activation='relu', input_shape=(10000,)))\n",
        "l1_model.add(layers.Dense(16, kernel_regularizer=regularizers.l1(0.0001),\n",
        "                          activation='relu'))\n",
        "l1_model.add(layers.Dense(1, activation='sigmoid'))\n"
      ],
      "execution_count": 20,
      "outputs": []
    },
    {
      "cell_type": "code",
      "metadata": {
        "id": "v3XeRAvhl_fa"
      },
      "source": [
        "l1_model.compile(optimizer='rmsprop',\n",
        "                 loss='binary_crossentropy',\n",
        "                 metrics=['acc'])"
      ],
      "execution_count": 21,
      "outputs": []
    },
    {
      "cell_type": "code",
      "metadata": {
        "id": "iwRbIH-vmBgW",
        "outputId": "20a5f9de-02aa-46a5-8724-5ffe7908424a",
        "colab": {
          "base_uri": "https://localhost:8080/"
        }
      },
      "source": [
        "l1_model_hist = l1_model.fit(x_train, y_train,\n",
        "                             epochs=20,\n",
        "                             batch_size=512,\n",
        "                             validation_data=(x_test, y_test))"
      ],
      "execution_count": 22,
      "outputs": [
        {
          "output_type": "stream",
          "text": [
            "Epoch 1/20\n",
            "49/49 [==============================] - 1s 29ms/step - loss: 0.5806 - acc: 0.8044 - val_loss: 0.4602 - val_acc: 0.8596\n",
            "Epoch 2/20\n",
            "49/49 [==============================] - 1s 22ms/step - loss: 0.3884 - acc: 0.8897 - val_loss: 0.3964 - val_acc: 0.8732\n",
            "Epoch 3/20\n",
            "49/49 [==============================] - 1s 22ms/step - loss: 0.3438 - acc: 0.9018 - val_loss: 0.3900 - val_acc: 0.8716\n",
            "Epoch 4/20\n",
            "49/49 [==============================] - 1s 22ms/step - loss: 0.3253 - acc: 0.9078 - val_loss: 0.3599 - val_acc: 0.8874\n",
            "Epoch 5/20\n",
            "49/49 [==============================] - 1s 22ms/step - loss: 0.3167 - acc: 0.9110 - val_loss: 0.3702 - val_acc: 0.8825\n",
            "Epoch 6/20\n",
            "49/49 [==============================] - 1s 22ms/step - loss: 0.3077 - acc: 0.9154 - val_loss: 0.3674 - val_acc: 0.8834\n",
            "Epoch 7/20\n",
            "49/49 [==============================] - 1s 22ms/step - loss: 0.3053 - acc: 0.9154 - val_loss: 0.3676 - val_acc: 0.8856\n",
            "Epoch 8/20\n",
            "49/49 [==============================] - 1s 22ms/step - loss: 0.2977 - acc: 0.9185 - val_loss: 0.3712 - val_acc: 0.8828\n",
            "Epoch 9/20\n",
            "49/49 [==============================] - 1s 22ms/step - loss: 0.2966 - acc: 0.9194 - val_loss: 0.3731 - val_acc: 0.8839\n",
            "Epoch 10/20\n",
            "49/49 [==============================] - 1s 22ms/step - loss: 0.2938 - acc: 0.9204 - val_loss: 0.3931 - val_acc: 0.8771\n",
            "Epoch 11/20\n",
            "49/49 [==============================] - 1s 22ms/step - loss: 0.2879 - acc: 0.9228 - val_loss: 0.3764 - val_acc: 0.8831\n",
            "Epoch 12/20\n",
            "49/49 [==============================] - 1s 22ms/step - loss: 0.2862 - acc: 0.9236 - val_loss: 0.3947 - val_acc: 0.8760\n",
            "Epoch 13/20\n",
            "49/49 [==============================] - 1s 21ms/step - loss: 0.2798 - acc: 0.9259 - val_loss: 0.3813 - val_acc: 0.8816\n",
            "Epoch 14/20\n",
            "49/49 [==============================] - 1s 22ms/step - loss: 0.2786 - acc: 0.9268 - val_loss: 0.4002 - val_acc: 0.8751\n",
            "Epoch 15/20\n",
            "49/49 [==============================] - 1s 22ms/step - loss: 0.2707 - acc: 0.9309 - val_loss: 0.3853 - val_acc: 0.8802\n",
            "Epoch 16/20\n",
            "49/49 [==============================] - 1s 22ms/step - loss: 0.2740 - acc: 0.9275 - val_loss: 0.4009 - val_acc: 0.8759\n",
            "Epoch 17/20\n",
            "49/49 [==============================] - 1s 22ms/step - loss: 0.2613 - acc: 0.9358 - val_loss: 0.4249 - val_acc: 0.8674\n",
            "Epoch 18/20\n",
            "49/49 [==============================] - 1s 22ms/step - loss: 0.2634 - acc: 0.9325 - val_loss: 0.4270 - val_acc: 0.8662\n",
            "Epoch 19/20\n",
            "49/49 [==============================] - 1s 22ms/step - loss: 0.2559 - acc: 0.9359 - val_loss: 0.3935 - val_acc: 0.8788\n",
            "Epoch 20/20\n",
            "49/49 [==============================] - 1s 22ms/step - loss: 0.2551 - acc: 0.9361 - val_loss: 0.4150 - val_acc: 0.8716\n"
          ],
          "name": "stdout"
        }
      ]
    },
    {
      "cell_type": "code",
      "metadata": {
        "id": "7qsT6SlQmFSl",
        "outputId": "1b576b09-f68c-4ded-dbd6-84532008cea1",
        "colab": {
          "base_uri": "https://localhost:8080/",
          "height": 280
        }
      },
      "source": [
        "l1_model_val_loss = l1_model_hist.history['val_loss']\n",
        "\n",
        "plt.plot(epochs, original_val_loss, 'b+', label='Original model')\n",
        "plt.plot(epochs, l1_model_val_loss, 'bo', label='L1-regularized model')\n",
        "plt.xlabel('Epochs')\n",
        "plt.ylabel('Validation loss')\n",
        "plt.legend()\n",
        "\n",
        "plt.show()"
      ],
      "execution_count": 23,
      "outputs": [
        {
          "output_type": "display_data",
          "data": {
            "image/png": "[encoded data removed]",
            "text/plain": [
              "<Figure size 432x288 with 1 Axes>"
            ]
          },
          "metadata": {
            "tags": [],
            "needs_background": "light"
          }
        }
      ]
    },
    {
      "cell_type": "code",
      "metadata": {
        "id": "oIJIVB2OmJP4"
      },
      "source": [
        "\n",
        "l1l2_model = models.Sequential()\n",
        "l1l2_model.add(layers.Dense(16, kernel_regularizer=regularizers.l1_l2(l1=0.0001, l2=0.0001),\n",
        "                            activation='relu', input_shape=(10000,)))\n",
        "l1l2_model.add(layers.Dense(16, kernel_regularizer=regularizers.l1_l2(l1=0.0001, l2=0.0001),\n",
        "                            activation='relu'))\n",
        "l1l2_model.add(layers.Dense(1, activation='sigmoid'))"
      ],
      "execution_count": 24,
      "outputs": []
    },
    {
      "cell_type": "code",
      "metadata": {
        "id": "KKtoQjuQmLHm"
      },
      "source": [
        "l1l2_model.compile(optimizer='rmsprop',\n",
        "                   loss='binary_crossentropy',\n",
        "                   metrics=['acc'])"
      ],
      "execution_count": 25,
      "outputs": []
    },
    {
      "cell_type": "code",
      "metadata": {
        "id": "q4gLlZY8mNKk",
        "outputId": "9bd43ccb-5ce2-4dc0-f01d-a6cb293d27df",
        "colab": {
          "base_uri": "https://localhost:8080/"
        }
      },
      "source": [
        "l1l2_model_hist = l1l2_model.fit(x_train, y_train,\n",
        "                                 epochs=20,\n",
        "                                 batch_size=512,\n",
        "                                 validation_data=(x_test, y_test))"
      ],
      "execution_count": 26,
      "outputs": [
        {
          "output_type": "stream",
          "text": [
            "Epoch 1/20\n",
            "49/49 [==============================] - 2s 34ms/step - loss: 0.5925 - acc: 0.8058 - val_loss: 0.4670 - val_acc: 0.8642\n",
            "Epoch 2/20\n",
            "49/49 [==============================] - 1s 22ms/step - loss: 0.4038 - acc: 0.8879 - val_loss: 0.4110 - val_acc: 0.8650\n",
            "Epoch 3/20\n",
            "49/49 [==============================] - 1s 23ms/step - loss: 0.3519 - acc: 0.8987 - val_loss: 0.3640 - val_acc: 0.8877\n",
            "Epoch 4/20\n",
            "49/49 [==============================] - 1s 22ms/step - loss: 0.3264 - acc: 0.9073 - val_loss: 0.3583 - val_acc: 0.8874\n",
            "Epoch 5/20\n",
            "49/49 [==============================] - 1s 22ms/step - loss: 0.3147 - acc: 0.9109 - val_loss: 0.3599 - val_acc: 0.8857\n",
            "Epoch 6/20\n",
            "49/49 [==============================] - 1s 22ms/step - loss: 0.3054 - acc: 0.9151 - val_loss: 0.3634 - val_acc: 0.8835\n",
            "Epoch 7/20\n",
            "49/49 [==============================] - 1s 22ms/step - loss: 0.2991 - acc: 0.9166 - val_loss: 0.3615 - val_acc: 0.8860\n",
            "Epoch 8/20\n",
            "49/49 [==============================] - 1s 22ms/step - loss: 0.2947 - acc: 0.9198 - val_loss: 0.3743 - val_acc: 0.8816\n",
            "Epoch 9/20\n",
            "49/49 [==============================] - 1s 22ms/step - loss: 0.2891 - acc: 0.9214 - val_loss: 0.3833 - val_acc: 0.8765\n",
            "Epoch 10/20\n",
            "49/49 [==============================] - 1s 22ms/step - loss: 0.2860 - acc: 0.9232 - val_loss: 0.3701 - val_acc: 0.8838\n",
            "Epoch 11/20\n",
            "49/49 [==============================] - 1s 22ms/step - loss: 0.2810 - acc: 0.9260 - val_loss: 0.3918 - val_acc: 0.8749\n",
            "Epoch 12/20\n",
            "49/49 [==============================] - 1s 22ms/step - loss: 0.2793 - acc: 0.9260 - val_loss: 0.3803 - val_acc: 0.8814\n",
            "Epoch 13/20\n",
            "49/49 [==============================] - 1s 22ms/step - loss: 0.2756 - acc: 0.9285 - val_loss: 0.4170 - val_acc: 0.8678\n",
            "Epoch 14/20\n",
            "49/49 [==============================] - 1s 23ms/step - loss: 0.2732 - acc: 0.9280 - val_loss: 0.4045 - val_acc: 0.8725\n",
            "Epoch 15/20\n",
            "49/49 [==============================] - 1s 23ms/step - loss: 0.2730 - acc: 0.9289 - val_loss: 0.3999 - val_acc: 0.8733\n",
            "Epoch 16/20\n",
            "49/49 [==============================] - 1s 22ms/step - loss: 0.2698 - acc: 0.9308 - val_loss: 0.3986 - val_acc: 0.8750\n",
            "Epoch 17/20\n",
            "49/49 [==============================] - 1s 22ms/step - loss: 0.2661 - acc: 0.9314 - val_loss: 0.4223 - val_acc: 0.8678\n",
            "Epoch 18/20\n",
            "49/49 [==============================] - 1s 22ms/step - loss: 0.2645 - acc: 0.9319 - val_loss: 0.4214 - val_acc: 0.8684\n",
            "Epoch 19/20\n",
            "49/49 [==============================] - 1s 22ms/step - loss: 0.2623 - acc: 0.9339 - val_loss: 0.4050 - val_acc: 0.8742\n",
            "Epoch 20/20\n",
            "49/49 [==============================] - 1s 23ms/step - loss: 0.2604 - acc: 0.9352 - val_loss: 0.4157 - val_acc: 0.8704\n"
          ],
          "name": "stdout"
        }
      ]
    },
    {
      "cell_type": "code",
      "metadata": {
        "id": "tlgQwgOnmPtq",
        "outputId": "b7db4263-11c2-4745-ee42-0ef4b2747b08",
        "colab": {
          "base_uri": "https://localhost:8080/",
          "height": 280
        }
      },
      "source": [
        "\n",
        "l1l2_model_val_loss = l1l2_model_hist.history['val_loss']\n",
        "\n",
        "plt.plot(epochs, original_val_loss, 'b+', label='Original model')\n",
        "plt.plot(epochs, l1l2_model_val_loss, 'bo', label='L1,L2-regularized model')\n",
        "plt.xlabel('Epochs')\n",
        "plt.ylabel('Validation loss')\n",
        "plt.legend()\n",
        "\n",
        "plt.show()"
      ],
      "execution_count": 27,
      "outputs": [
        {
          "output_type": "display_data",
          "data": {
            "image/png": "[encoded data removed]",
            "text/plain": [
              "<Figure size 432x288 with 1 Axes>"
            ]
          },
          "metadata": {
            "tags": [],
            "needs_background": "light"
          }
        }
      ]
    },
    {
      "cell_type": "markdown",
      "metadata": {
        "id": "CgUTLMXXm-R3"
      },
      "source": [
        "#### 4.4.3 드롭아웃 추가\n",
        "- 네트워크 층에 드롭아웃을 적용하면 훈련하는 동안 무작위로 층의 일부 출력 특성을 제외시킵니다.\n",
        "```python\n",
        "# 훈련할 때 유닛의 출력 중 50%를 버립니다\n",
        "layer_output *= np.random.randint(0, high=2, size=layer_output.shape)\n",
        "```\n",
        "테스트할 때는 드롭아웃 비율로 출력을 낮추어 주어야 합니다. 여기에서는 0.5배만큼 스케일을 조정했습니다(앞에서 절반의 유닛을 드롭아웃했으므로):\n",
        "```python\n",
        "# 테스트 단계\n",
        "layer_output *= 0.5\n",
        "```\n",
        "훈련 단계에 이 두 연산을 포함시켜 테스트 단계에는 출력을 그대로 두도록 구현할 수 있습니다. 실제로 종종 이런 방식으로 구현합니다:\n",
        "\n",
        "```python\n",
        "# 훈련 단계\n",
        "layer_output *= np.randint(0, high=2, size=layer_output.shape)\n",
        "# 여기에서 스케일을 낮추는 대신 높입니다![image.png](attachment:image.png)\n",
        "layer_output /= 0.5\n",
        "```\n",
        "왜 드롭아웃이 과대적합을 줄이는 데 도움이 될까요? 힌튼은 은행에서 사용하는 부정 방지 메커니즘에서 착안했다고 합니다. 그의 말을 빌리면 “은행에 갔을 때 행원들이 계속 바뀌길래 왜 그런지를 물었습니다. 자신들도 이유는 모르지만 자주 업무가 바뀐다고 했습니다. 나는 은행에서 부정 행위를 하려면 직원들 사이의 유대가 필요하기 때문이라고 판단했습니다. \n",
        "\n",
        "**핵심 아이디어는 층의 출력 값에 노이즈를 추가하여 중요하지 않은 우연한 패턴(힌튼이 이야기한 부정한 협업)을 깨뜨리는 것입니다.**\n",
        "\n",
        "- 신경망에서 과대적합을 방지하기 위해 가장 널리 사용하는 방법은 다음과 같습니다.\n",
        "\n",
        "1. 훈련 데이터를 더 모읍니다.\n",
        "2. 네트워크의 용량을 감소시킵니다.\n",
        "3. 가중치 규제를 추가합니다.\n",
        "4. 드롭아웃을 추가합니다"
      ]
    },
    {
      "cell_type": "code",
      "metadata": {
        "id": "NFJSRllenVdd"
      },
      "source": [
        ""
      ],
      "execution_count": null,
      "outputs": []
    },
    {
      "cell_type": "code",
      "metadata": {
        "id": "4uzSXwKHnWSy"
      },
      "source": [
        ""
      ],
      "execution_count": null,
      "outputs": []
    }
  ]
}