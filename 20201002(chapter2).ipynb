{
  "nbformat": 4,
  "nbformat_minor": 0,
  "metadata": {
    "colab": {
      "name": "20201002(chapter2).ipynb",
      "provenance": [],
      "collapsed_sections": []
    },
    "kernelspec": {
      "name": "python3",
      "display_name": "Python 3"
    }
  },
  "cells": [
    {
      "cell_type": "code",
      "metadata": {
        "id": "v1idVptI_KJF",
        "outputId": "dcaaa7d1-b9a7-46bf-f962-be9a69efd204",
        "colab": {
          "base_uri": "https://localhost:8080/",
          "height": 55
        }
      },
      "source": [
        "from keras.datasets import mnist \n",
        "(train_images, train_lables),(test_images, test_labels)= mnist.load_data()"
      ],
      "execution_count": 1,
      "outputs": [
        {
          "output_type": "stream",
          "text": [
            "Downloading data from https://storage.googleapis.com/tensorflow/tf-keras-datasets/mnist.npz\n",
            "11493376/11490434 [==============================] - 0s 0us/step\n"
          ],
          "name": "stdout"
        }
      ]
    },
    {
      "cell_type": "code",
      "metadata": {
        "id": "CSetRS1j_7NG",
        "outputId": "d41bd71b-ebfb-462d-eb71-0ec9028cc168",
        "colab": {
          "base_uri": "https://localhost:8080/",
          "height": 36
        }
      },
      "source": [
        "train_images.shape"
      ],
      "execution_count": 2,
      "outputs": [
        {
          "output_type": "execute_result",
          "data": {
            "text/plain": [
              "(60000, 28, 28)"
            ]
          },
          "metadata": {
            "tags": []
          },
          "execution_count": 2
        }
      ]
    },
    {
      "cell_type": "code",
      "metadata": {
        "id": "fv2VGq8hAJnC",
        "outputId": "c122a784-96dc-422b-921a-ff84441d9e77",
        "colab": {
          "base_uri": "https://localhost:8080/",
          "height": 36
        }
      },
      "source": [
        "len(train_lables)"
      ],
      "execution_count": 3,
      "outputs": [
        {
          "output_type": "execute_result",
          "data": {
            "text/plain": [
              "60000"
            ]
          },
          "metadata": {
            "tags": []
          },
          "execution_count": 3
        }
      ]
    },
    {
      "cell_type": "code",
      "metadata": {
        "id": "13bxzyGAAPzR",
        "outputId": "df7f3f3b-806f-4794-9efb-bbe6e58a6fd3",
        "colab": {
          "base_uri": "https://localhost:8080/",
          "height": 36
        }
      },
      "source": [
        "train_lables"
      ],
      "execution_count": 4,
      "outputs": [
        {
          "output_type": "execute_result",
          "data": {
            "text/plain": [
              "array([5, 0, 4, ..., 5, 6, 8], dtype=uint8)"
            ]
          },
          "metadata": {
            "tags": []
          },
          "execution_count": 4
        }
      ]
    },
    {
      "cell_type": "code",
      "metadata": {
        "id": "guadOpT3AZZC",
        "outputId": "5a756c8e-f302-4431-b117-04fe7c510100",
        "colab": {
          "base_uri": "https://localhost:8080/",
          "height": 36
        }
      },
      "source": [
        "test_images.shape"
      ],
      "execution_count": 5,
      "outputs": [
        {
          "output_type": "execute_result",
          "data": {
            "text/plain": [
              "(10000, 28, 28)"
            ]
          },
          "metadata": {
            "tags": []
          },
          "execution_count": 5
        }
      ]
    },
    {
      "cell_type": "code",
      "metadata": {
        "id": "i55ndlR8Adc2",
        "outputId": "e32f4325-5de8-4718-af0c-2994a73492fe",
        "colab": {
          "base_uri": "https://localhost:8080/",
          "height": 36
        }
      },
      "source": [
        "len(test_labels)"
      ],
      "execution_count": 6,
      "outputs": [
        {
          "output_type": "execute_result",
          "data": {
            "text/plain": [
              "10000"
            ]
          },
          "metadata": {
            "tags": []
          },
          "execution_count": 6
        }
      ]
    },
    {
      "cell_type": "code",
      "metadata": {
        "id": "1Nr1KbruAgc0",
        "outputId": "3b43ef60-b8c0-41f7-fe60-195f6417b27c",
        "colab": {
          "base_uri": "https://localhost:8080/",
          "height": 36
        }
      },
      "source": [
        "test_labels"
      ],
      "execution_count": 7,
      "outputs": [
        {
          "output_type": "execute_result",
          "data": {
            "text/plain": [
              "array([7, 2, 1, ..., 4, 5, 6], dtype=uint8)"
            ]
          },
          "metadata": {
            "tags": []
          },
          "execution_count": 7
        }
      ]
    },
    {
      "cell_type": "code",
      "metadata": {
        "id": "UX3xhJnTAinI"
      },
      "source": [
        "from keras import models\n",
        "from keras import layers\n",
        "\n",
        "network = models.Sequential()\n",
        "network.add(layers.Dense(512,activation='relu',input_shape=(28*28,)))\n",
        "network.add(layers.Dense(10, activation='softmax'))\n"
      ],
      "execution_count": 8,
      "outputs": []
    },
    {
      "cell_type": "code",
      "metadata": {
        "id": "AS55DUTcByio"
      },
      "source": [
        "network.compile(optimizer='rmsprop',\n",
        "                loss='categorical_crossentropy',\n",
        "                metrics=['accuracy'])"
      ],
      "execution_count": 9,
      "outputs": []
    },
    {
      "cell_type": "code",
      "metadata": {
        "id": "6ikHLPREE_B5"
      },
      "source": [
        "train_images= train_images.reshape((60000,28*28))\n",
        "train_images= train_images.astype('float32')/255\n",
        "\n",
        "test_images = test_images.reshape((10000,28*28))\n",
        "test_images = test_images.astype('float32')/255"
      ],
      "execution_count": 10,
      "outputs": []
    },
    {
      "cell_type": "code",
      "metadata": {
        "id": "MT1UgUg0Fdd7"
      },
      "source": [
        "from keras.utils import to_categorical\n",
        "\n",
        "train_lables =to_categorical(train_lables)\n",
        "test_labels=to_categorical(test_labels)"
      ],
      "execution_count": 11,
      "outputs": []
    },
    {
      "cell_type": "code",
      "metadata": {
        "id": "DSRp6N96GW6M",
        "outputId": "c30bd411-fc41-4d48-d041-f8a66e57030a",
        "colab": {
          "base_uri": "https://localhost:8080/",
          "height": 223
        }
      },
      "source": [
        "network.fit(train_images,train_lables,epochs=5,batch_size=128)"
      ],
      "execution_count": 12,
      "outputs": [
        {
          "output_type": "stream",
          "text": [
            "Epoch 1/5\n",
            "469/469 [==============================] - 4s 9ms/step - loss: 0.2543 - accuracy: 0.9267\n",
            "Epoch 2/5\n",
            "469/469 [==============================] - 4s 9ms/step - loss: 0.1014 - accuracy: 0.9697\n",
            "Epoch 3/5\n",
            "469/469 [==============================] - 4s 9ms/step - loss: 0.0664 - accuracy: 0.9803\n",
            "Epoch 4/5\n",
            "469/469 [==============================] - 4s 9ms/step - loss: 0.0484 - accuracy: 0.9850\n",
            "Epoch 5/5\n",
            "469/469 [==============================] - 4s 9ms/step - loss: 0.0360 - accuracy: 0.9891\n"
          ],
          "name": "stdout"
        },
        {
          "output_type": "execute_result",
          "data": {
            "text/plain": [
              "<tensorflow.python.keras.callbacks.History at 0x7f42081e3b00>"
            ]
          },
          "metadata": {
            "tags": []
          },
          "execution_count": 12
        }
      ]
    },
    {
      "cell_type": "code",
      "metadata": {
        "id": "7RD9YC0hFsim",
        "outputId": "ff29aaa8-2114-4077-bb17-7656d84a04bb",
        "colab": {
          "base_uri": "https://localhost:8080/",
          "height": 36
        }
      },
      "source": [
        "test_loss , test_acc = network.evaluate(test_images,test_labels)"
      ],
      "execution_count": 13,
      "outputs": [
        {
          "output_type": "stream",
          "text": [
            "313/313 [==============================] - 1s 2ms/step - loss: 0.0643 - accuracy: 0.9806\n"
          ],
          "name": "stdout"
        }
      ]
    },
    {
      "cell_type": "code",
      "metadata": {
        "id": "4-tJxNEeF2mN",
        "outputId": "5a51b8c0-45c1-4422-86c0-9694817ecfe1",
        "colab": {
          "base_uri": "https://localhost:8080/",
          "height": 36
        }
      },
      "source": [
        "print('test_acc:',test_acc)"
      ],
      "execution_count": 14,
      "outputs": [
        {
          "output_type": "stream",
          "text": [
            "test_acc: 0.9805999994277954\n"
          ],
          "name": "stdout"
        }
      ]
    },
    {
      "cell_type": "code",
      "metadata": {
        "id": "a9J_OWV7F_s0"
      },
      "source": [
        "import numpy as np\n"
      ],
      "execution_count": 15,
      "outputs": []
    },
    {
      "cell_type": "code",
      "metadata": {
        "id": "5FG_DdGsHYU1"
      },
      "source": [
        "x= np.array(12)"
      ],
      "execution_count": 16,
      "outputs": []
    },
    {
      "cell_type": "code",
      "metadata": {
        "id": "BHir2gY5HcL8",
        "outputId": "330df220-8626-4fa2-cd0f-f7f1ba6d54d6",
        "colab": {
          "base_uri": "https://localhost:8080/",
          "height": 36
        }
      },
      "source": [
        "x"
      ],
      "execution_count": 17,
      "outputs": [
        {
          "output_type": "execute_result",
          "data": {
            "text/plain": [
              "array(12)"
            ]
          },
          "metadata": {
            "tags": []
          },
          "execution_count": 17
        }
      ]
    },
    {
      "cell_type": "code",
      "metadata": {
        "id": "7TafWGIGHimB",
        "outputId": "5e98ce3f-4b89-4a15-9594-dfb325345580",
        "colab": {
          "base_uri": "https://localhost:8080/",
          "height": 36
        }
      },
      "source": [
        "x.ndim"
      ],
      "execution_count": 18,
      "outputs": [
        {
          "output_type": "execute_result",
          "data": {
            "text/plain": [
              "0"
            ]
          },
          "metadata": {
            "tags": []
          },
          "execution_count": 18
        }
      ]
    },
    {
      "cell_type": "code",
      "metadata": {
        "id": "J16rreu7Hl33"
      },
      "source": [
        "x=np.array([12,3,6,14,7])"
      ],
      "execution_count": 19,
      "outputs": []
    },
    {
      "cell_type": "code",
      "metadata": {
        "id": "q0SL1AdaHsju",
        "outputId": "cc1de64a-8081-42ac-fb6d-5cbeb2426f16",
        "colab": {
          "base_uri": "https://localhost:8080/",
          "height": 36
        }
      },
      "source": [
        "x"
      ],
      "execution_count": 20,
      "outputs": [
        {
          "output_type": "execute_result",
          "data": {
            "text/plain": [
              "array([12,  3,  6, 14,  7])"
            ]
          },
          "metadata": {
            "tags": []
          },
          "execution_count": 20
        }
      ]
    },
    {
      "cell_type": "code",
      "metadata": {
        "id": "tBr7CaHzHtxm",
        "outputId": "f16b87a6-071e-44a5-e67b-cb84b8c8dce6",
        "colab": {
          "base_uri": "https://localhost:8080/",
          "height": 36
        }
      },
      "source": [
        "x.ndim"
      ],
      "execution_count": 21,
      "outputs": [
        {
          "output_type": "execute_result",
          "data": {
            "text/plain": [
              "1"
            ]
          },
          "metadata": {
            "tags": []
          },
          "execution_count": 21
        }
      ]
    },
    {
      "cell_type": "code",
      "metadata": {
        "id": "NJHO1UgLHwW2"
      },
      "source": [
        "x=np.array([[5,78,2,34,0],\n",
        "            [6,79,3,35,1],\n",
        "            [7,80,4,36,2]])"
      ],
      "execution_count": 22,
      "outputs": []
    },
    {
      "cell_type": "code",
      "metadata": {
        "id": "QhX7AX95IFC8",
        "outputId": "8b048acb-1001-4216-8acd-45cd96850e0b",
        "colab": {
          "base_uri": "https://localhost:8080/",
          "height": 36
        }
      },
      "source": [
        "x.ndim"
      ],
      "execution_count": 23,
      "outputs": [
        {
          "output_type": "execute_result",
          "data": {
            "text/plain": [
              "2"
            ]
          },
          "metadata": {
            "tags": []
          },
          "execution_count": 23
        }
      ]
    },
    {
      "cell_type": "code",
      "metadata": {
        "id": "ZUjHEdRGIHZ2",
        "outputId": "2a627448-a9a9-455d-fc61-0c45e0b6e173",
        "colab": {
          "base_uri": "https://localhost:8080/",
          "height": 36
        }
      },
      "source": [
        "from keras.datasets import mnist\n",
        "(train_images, train_lables),(test_images,test_labels) = mnist.load_data()\n",
        "print(train_images.ndim)\n"
      ],
      "execution_count": 24,
      "outputs": [
        {
          "output_type": "stream",
          "text": [
            "3\n"
          ],
          "name": "stdout"
        }
      ]
    },
    {
      "cell_type": "code",
      "metadata": {
        "id": "U6f0kviFKx8k",
        "outputId": "f3002875-312b-4fd1-b4be-29c371f8fa27",
        "colab": {
          "base_uri": "https://localhost:8080/",
          "height": 36
        }
      },
      "source": [
        "print(train_images.dtype)"
      ],
      "execution_count": 25,
      "outputs": [
        {
          "output_type": "stream",
          "text": [
            "uint8\n"
          ],
          "name": "stdout"
        }
      ]
    },
    {
      "cell_type": "code",
      "metadata": {
        "id": "Pp0jEBzXK2dU",
        "outputId": "6dadfa96-b2bb-454d-a657-c38168471ef1",
        "colab": {
          "base_uri": "https://localhost:8080/",
          "height": 265
        }
      },
      "source": [
        "digit = train_images[4]\n",
        "import matplotlib.pyplot as plt\n",
        "plt.imshow(digit, cmap = plt.cm.binary)\n",
        "plt.show()"
      ],
      "execution_count": 26,
      "outputs": [
        {
          "output_type": "display_data",
          "data": {
            "image/png": "[encoded data removed]",
            "text/plain": [
              "<Figure size 432x288 with 1 Axes>"
            ]
          },
          "metadata": {
            "tags": [],
            "needs_background": "light"
          }
        }
      ]
    },
    {
      "cell_type": "code",
      "metadata": {
        "id": "kJWmdklrLKol"
      },
      "source": [
        "my_slice =train_images[10:100]"
      ],
      "execution_count": 27,
      "outputs": []
    },
    {
      "cell_type": "code",
      "metadata": {
        "id": "Zs6AjaONMUqv",
        "outputId": "e21d71d2-892c-4453-ea30-c7a17a163def",
        "colab": {
          "base_uri": "https://localhost:8080/",
          "height": 36
        }
      },
      "source": [
        "print(my_slice.shape)"
      ],
      "execution_count": 28,
      "outputs": [
        {
          "output_type": "stream",
          "text": [
            "(90, 28, 28)\n"
          ],
          "name": "stdout"
        }
      ]
    },
    {
      "cell_type": "code",
      "metadata": {
        "id": "L5BHzAQ-MYZ2",
        "outputId": "6c32d340-56df-4798-dfd2-0da65583568e",
        "colab": {
          "base_uri": "https://localhost:8080/",
          "height": 36
        }
      },
      "source": [
        "my_slice = train_images[10:100,:,:]\n",
        "my_slice.shape "
      ],
      "execution_count": 29,
      "outputs": [
        {
          "output_type": "execute_result",
          "data": {
            "text/plain": [
              "(90, 28, 28)"
            ]
          },
          "metadata": {
            "tags": []
          },
          "execution_count": 29
        }
      ]
    },
    {
      "cell_type": "code",
      "metadata": {
        "id": "XcnfcRW9Mif-",
        "outputId": "8a9c50ef-b96a-4c77-b96d-8652cf5cedf4",
        "colab": {
          "base_uri": "https://localhost:8080/",
          "height": 36
        }
      },
      "source": [
        "my_slice =train_images[:,7:-7,7:-7]\n",
        "my_slice.shape"
      ],
      "execution_count": 33,
      "outputs": [
        {
          "output_type": "execute_result",
          "data": {
            "text/plain": [
              "(60000, 14, 14)"
            ]
          },
          "metadata": {
            "tags": []
          },
          "execution_count": 33
        }
      ]
    },
    {
      "cell_type": "markdown",
      "metadata": {
        "id": "vxP2ox98Ia6n"
      },
      "source": [
        "## 배치 데이터\n",
        "- \n",
        "``` python\n",
        "batch = train_images[128*n:128*(n+1)] \n",
        "```\n",
        "이런식으로 표현됨"
      ]
    },
    {
      "cell_type": "code",
      "metadata": {
        "id": "K6d0hfX4M_5U"
      },
      "source": [
        "batch = train_images[:128]"
      ],
      "execution_count": 36,
      "outputs": []
    },
    {
      "cell_type": "code",
      "metadata": {
        "id": "q53O3blcNFqY"
      },
      "source": [
        "batch = train_images[128:256]\n"
      ],
      "execution_count": 37,
      "outputs": []
    },
    {
      "cell_type": "markdown",
      "metadata": {
        "id": "mrVqa8SZKjiB"
      },
      "source": [
        "## 2.3 신경망의 톱니바퀴: 텐서 연산 \n",
        "- 심층 신경망이 학습한 모든 변환을 수치 데이터 텐서에 적용하는 몇종류의 텐서 연산으로 나타낼 수 있다. \n",
        "- 텐서 덧셈이나 텐서 곱셈 등이 있다.  \n",
        "\n",
        "- ```python\n",
        "# dense 층을 쌓아서 신경망을 만듦 \n",
        "keras.layers.Dense(512,activation='relu')\n",
        "```\n",
        "- W는 2D 텐서고, b는 벡터 \n",
        "```python\n",
        "output =relu(dot(W,input)+b)\n",
        "```\n",
        "-relu(x) = max(x,0)"
      ]
    },
    {
      "cell_type": "code",
      "metadata": {
        "id": "RhXAr5j8InSC"
      },
      "source": [
        "def naive_relu(x):\n",
        "    assert len(x.shape) == 2\n",
        "    x = x.copy()\n",
        "    for i in range(x.shape[0]):\n",
        "        for j in range(x.shape[1]):\n",
        "            x[i,j] = max(x[i,j],0)\n",
        "    return x"
      ],
      "execution_count": 39,
      "outputs": []
    },
    {
      "cell_type": "code",
      "metadata": {
        "id": "bNf9LzvTLXg3"
      },
      "source": [
        "def naive_add(x,y):\n",
        "    assert len(x.shape) ==2\n",
        "    assert x.shape == y.shape\n",
        "    x = x.copy()\n",
        "    for i in range(x.shape[0]):\n",
        "        for j in range(x.shape[1]):\n",
        "            x[i,j] += y[i,j]\n",
        "    return x\n",
        "        "
      ],
      "execution_count": 42,
      "outputs": []
    },
    {
      "cell_type": "markdown",
      "metadata": {
        "id": "wdaknktdPi9A"
      },
      "source": [
        "## ReLu \n",
        "- 이 함수는 쉽게 말해 0보다 작은 값이 나온 경우 0을 반환하고, 0보다 큰 값이 나온 경우 그 값을 그대로 반환하는 함수다\n",
        "\n"
      ]
    },
    {
      "cell_type": "code",
      "metadata": {
        "id": "l_bNZUgMPc5-"
      },
      "source": [
        "def naive_add_matrix_and_vector(x,y):\n",
        "    assert len(x.shape) == 2 #x는 2D 넘파이 배열입니다.\n",
        "    assert len(y.shape) == 1 #y는 넘파이 벡터입니다.\n",
        "    assert x.shape[1] == y.shape[0]\n",
        "\n",
        "    x=x.copy() # 입력 텐서 자체를 바꾸지 않도록 복사합니다.\n",
        "    for i in range(x.shape[0]):\n",
        "        for j in range(x.shape[1]):\n",
        "            x[i,j] += y[i]\n",
        "    return x\n"
      ],
      "execution_count": 45,
      "outputs": []
    },
    {
      "cell_type": "code",
      "metadata": {
        "id": "zWt16U4fRVs7",
        "outputId": "2e3833ba-6c1c-44ce-f3a2-a517f588dae8",
        "colab": {
          "base_uri": "https://localhost:8080/",
          "height": 1000
        }
      },
      "source": [
        "import numpy as np\n",
        "x = np.random.random((64,3,32,10)) # x는 (64,3,32,10) 크기의 랜덤 \n",
        "y = np.random.random((32,10)) # y는 (32,10) 크기의 랜덤 텐서입니다.\n",
        "z = np.maximum(x,y) # 출력 z 크기는 x와 동일하게 (64,3,32,10)입니다.\n",
        "print(z)"
      ],
      "execution_count": 47,
      "outputs": [
        {
          "output_type": "stream",
          "text": [
            "[[[[0.8148938  0.45650232 0.13595457 ... 0.80931371 0.62074945\n",
            "    0.95512964]\n",
            "   [0.97862723 0.45975199 0.8996589  ... 0.82353816 0.33276766\n",
            "    0.99010607]\n",
            "   [0.34665038 0.87427208 0.68956995 ... 0.77173632 0.55651028\n",
            "    0.94759294]\n",
            "   ...\n",
            "   [0.50377025 0.64939756 0.73205161 ... 0.56876319 0.82013136\n",
            "    0.30624525]\n",
            "   [0.66631226 0.50058521 0.90243856 ... 0.64639433 0.19300771\n",
            "    0.8861244 ]\n",
            "   [0.28655842 0.55395804 0.99892601 ... 0.77547497 0.82790175\n",
            "    0.82334929]]\n",
            "\n",
            "  [[0.8148938  0.87628341 0.47214069 ... 0.85578376 0.62074945\n",
            "    0.95512964]\n",
            "   [0.97862723 0.57361047 0.8996589  ... 0.78855475 0.33276766\n",
            "    0.31250597]\n",
            "   [0.89777639 0.87427208 0.68956995 ... 0.73024606 0.59695553\n",
            "    0.94759294]\n",
            "   ...\n",
            "   [0.90751799 0.22527421 0.43538642 ... 0.48473358 0.82013136\n",
            "    0.02550783]\n",
            "   [0.66631226 0.8452566  0.81888687 ... 0.64639433 0.49705905\n",
            "    0.8861244 ]\n",
            "   [0.28655842 0.55395804 0.52445605 ... 0.77547497 0.82790175\n",
            "    0.82334929]]\n",
            "\n",
            "  [[0.8148938  0.99054448 0.08572304 ... 0.80931371 0.62074945\n",
            "    0.97963525]\n",
            "   [0.97862723 0.50473506 0.8996589  ... 0.78855475 0.54986274\n",
            "    0.50017277]\n",
            "   [0.57684674 0.87427208 0.68956995 ... 0.3153151  0.40565047\n",
            "    0.98531185]\n",
            "   ...\n",
            "   [0.06849429 0.7185325  0.43538642 ... 0.20134038 0.82013136\n",
            "    0.69639443]\n",
            "   [0.8504178  0.50058521 0.81888687 ... 0.64639433 0.96075581\n",
            "    0.8861244 ]\n",
            "   [0.28655842 0.55395804 0.52445605 ... 0.77547497 0.82790175\n",
            "    0.82334929]]]\n",
            "\n",
            "\n",
            " [[[0.8148938  0.45650232 0.3755272  ... 0.99640466 0.62074945\n",
            "    0.95512964]\n",
            "   [0.97862723 0.74099463 0.8996589  ... 0.78855475 0.66906135\n",
            "    0.26554562]\n",
            "   [0.36397843 0.87427208 0.78524386 ... 0.81636884 0.40565047\n",
            "    0.94759294]\n",
            "   ...\n",
            "   [0.6507291  0.23857318 0.43538642 ... 0.20134038 0.82013136\n",
            "    0.66473726]\n",
            "   [0.66631226 0.50058521 0.81888687 ... 0.64639433 0.89956505\n",
            "    0.8861244 ]\n",
            "   [0.41271847 0.55395804 0.67005453 ... 0.77547497 0.82790175\n",
            "    0.82334929]]\n",
            "\n",
            "  [[0.8148938  0.68824151 0.21859264 ... 0.80931371 0.62074945\n",
            "    0.95512964]\n",
            "   [0.97862723 0.98486326 0.8996589  ... 0.78855475 0.40060817\n",
            "    0.91767198]\n",
            "   [0.79595756 0.87427208 0.98601879 ... 0.36155722 0.40565047\n",
            "    0.94759294]\n",
            "   ...\n",
            "   [0.37661336 0.22807796 0.93049646 ... 0.43465629 0.87206815\n",
            "    0.34596748]\n",
            "   [0.87865299 0.50058521 0.83714291 ... 0.64639433 0.19300771\n",
            "    0.8861244 ]\n",
            "   [0.80951274 0.55395804 0.79238794 ... 0.97521304 0.82790175\n",
            "    0.82334929]]\n",
            "\n",
            "  [[0.8148938  0.45650232 0.46361799 ... 0.80931371 0.62074945\n",
            "    0.95512964]\n",
            "   [0.97862723 0.45975199 0.8996589  ... 0.78855475 0.97419327\n",
            "    0.20562977]\n",
            "   [0.82887874 0.87427208 0.90170289 ... 0.51571488 0.40565047\n",
            "    0.94759294]\n",
            "   ...\n",
            "   [0.54983604 0.41061997 0.43538642 ... 0.98072474 0.82013136\n",
            "    0.92665939]\n",
            "   [0.66631226 0.79536129 0.81888687 ... 0.93611112 0.27885317\n",
            "    0.8861244 ]\n",
            "   [0.78311082 0.77622437 0.52445605 ... 0.84211825 0.82790175\n",
            "    0.82334929]]]\n",
            "\n",
            "\n",
            " [[[0.8148938  0.45650232 0.39280336 ... 0.82232388 0.62074945\n",
            "    0.95512964]\n",
            "   [0.97862723 0.45975199 0.8996589  ... 0.78855475 0.33276766\n",
            "    0.91886718]\n",
            "   [0.34665038 0.87427208 0.68956995 ... 0.83802004 0.42279764\n",
            "    0.94759294]\n",
            "   ...\n",
            "   [0.67453425 0.51197935 0.94087165 ... 0.32412919 0.90616111\n",
            "    0.91455856]\n",
            "   [0.66631226 0.50058521 0.81888687 ... 0.89400919 0.41570533\n",
            "    0.8861244 ]\n",
            "   [0.63731146 0.64106513 0.89554748 ... 0.77547497 0.82790175\n",
            "    0.82334929]]\n",
            "\n",
            "  [[0.8148938  0.45650232 0.91951722 ... 0.80931371 0.67263577\n",
            "    0.95512964]\n",
            "   [0.97862723 0.45975199 0.8996589  ... 0.78855475 0.72859199\n",
            "    0.89601225]\n",
            "   [0.79612826 0.87427208 0.82624468 ... 0.3153151  0.40565047\n",
            "    0.94759294]\n",
            "   ...\n",
            "   [0.34754198 0.6343106  0.43538642 ... 0.20134038 0.82013136\n",
            "    0.12080746]\n",
            "   [0.66631226 0.50058521 0.81888687 ... 0.64639433 0.26086861\n",
            "    0.8861244 ]\n",
            "   [0.28655842 0.79659402 0.72926622 ... 0.77547497 0.82790175\n",
            "    0.85714772]]\n",
            "\n",
            "  [[0.8148938  0.70440037 0.14602466 ... 0.84563892 0.62074945\n",
            "    0.95512964]\n",
            "   [0.97862723 0.45975199 0.8996589  ... 0.78855475 0.33276766\n",
            "    0.50637146]\n",
            "   [0.44915939 0.87427208 0.68956995 ... 0.3153151  0.57200714\n",
            "    0.94759294]\n",
            "   ...\n",
            "   [0.98729775 0.73968023 0.8855461  ... 0.20134038 0.91708368\n",
            "    0.77525183]\n",
            "   [0.66631226 0.50058521 0.81888687 ... 0.64639433 0.76855512\n",
            "    0.93749736]\n",
            "   [0.28655842 0.55395804 0.72567797 ... 0.79498438 0.82790175\n",
            "    0.90536518]]]\n",
            "\n",
            "\n",
            " ...\n",
            "\n",
            "\n",
            " [[[0.8148938  0.45650232 0.43659559 ... 0.80931371 0.86602984\n",
            "    0.95512964]\n",
            "   [0.97862723 0.50545238 0.8996589  ... 0.78855475 0.56075976\n",
            "    0.353869  ]\n",
            "   [0.34665038 0.87427208 0.94479193 ... 0.60829226 0.40565047\n",
            "    0.94759294]\n",
            "   ...\n",
            "   [0.50697362 0.79351892 0.43538642 ... 0.20134038 0.82013136\n",
            "    0.02739935]\n",
            "   [0.85487934 0.7050284  0.81888687 ... 0.97802668 0.92689323\n",
            "    0.8861244 ]\n",
            "   [0.32026154 0.5888394  0.85464149 ... 0.77547497 0.84475521\n",
            "    0.82334929]]\n",
            "\n",
            "  [[0.8148938  0.50828753 0.99666546 ... 0.80931371 0.62074945\n",
            "    0.95512964]\n",
            "   [0.97862723 0.45975199 0.8996589  ... 0.81391597 0.33276766\n",
            "    0.34211781]\n",
            "   [0.80321884 0.87427208 0.68956995 ... 0.91418249 0.9246176\n",
            "    0.94759294]\n",
            "   ...\n",
            "   [0.90775517 0.91483144 0.65251484 ... 0.27869852 0.82013136\n",
            "    0.41372367]\n",
            "   [0.66631226 0.95529078 0.81888687 ... 0.99903347 0.32133732\n",
            "    0.8861244 ]\n",
            "   [0.28655842 0.55395804 0.75197223 ... 0.77547497 0.82790175\n",
            "    0.82334929]]\n",
            "\n",
            "  [[0.8148938  0.76121676 0.91419062 ... 0.80931371 0.62074945\n",
            "    0.99655556]\n",
            "   [0.97862723 0.45975199 0.8996589  ... 0.78855475 0.88308256\n",
            "    0.76611959]\n",
            "   [0.34665038 0.87427208 0.68956995 ... 0.35345642 0.53959317\n",
            "    0.94759294]\n",
            "   ...\n",
            "   [0.59829157 0.10888453 0.99629298 ... 0.43674088 0.82013136\n",
            "    0.65425125]\n",
            "   [0.78537841 0.50058521 0.97390099 ... 0.78793695 0.40040445\n",
            "    0.8861244 ]\n",
            "   [0.84364378 0.9383577  0.52445605 ... 0.77547497 0.82790175\n",
            "    0.84939556]]]\n",
            "\n",
            "\n",
            " [[[0.8148938  0.99599852 0.59556075 ... 0.80931371 0.97448879\n",
            "    0.95512964]\n",
            "   [0.97862723 0.45975199 0.8996589  ... 0.78855475 0.33276766\n",
            "    0.20562977]\n",
            "   [0.90031615 0.87427208 0.68956995 ... 0.57340861 0.55167253\n",
            "    0.94759294]\n",
            "   ...\n",
            "   [0.05239597 0.0903544  0.43538642 ... 0.20134038 0.82013136\n",
            "    0.49973884]\n",
            "   [0.99608758 0.50058521 0.81888687 ... 0.64639433 0.61897931\n",
            "    0.88839075]\n",
            "   [0.3232972  0.63478295 0.52445605 ... 0.77547497 0.82790175\n",
            "    0.82334929]]\n",
            "\n",
            "  [[0.8148938  0.45650232 0.89589809 ... 0.80931371 0.62074945\n",
            "    0.95512964]\n",
            "   [0.97862723 0.45975199 0.96540582 ... 0.78855475 0.33276766\n",
            "    0.41396417]\n",
            "   [0.34665038 0.87427208 0.68956995 ... 0.3153151  0.63202799\n",
            "    0.94759294]\n",
            "   ...\n",
            "   [0.17021333 0.53444536 0.43538642 ... 0.24133688 0.92767579\n",
            "    0.32796432]\n",
            "   [0.66631226 0.98457739 0.85657559 ... 0.80925076 0.70236383\n",
            "    0.8861244 ]\n",
            "   [0.46494183 0.59081976 0.73996051 ... 0.77547497 0.82790175\n",
            "    0.89208156]]\n",
            "\n",
            "  [[0.8148938  0.45650232 0.63466699 ... 0.80931371 0.62074945\n",
            "    0.95512964]\n",
            "   [0.97862723 0.84468124 0.8996589  ... 0.78855475 0.33276766\n",
            "    0.95751891]\n",
            "   [0.50102432 0.87427208 0.68956995 ... 0.3153151  0.40565047\n",
            "    0.94759294]\n",
            "   ...\n",
            "   [0.01704778 0.70227252 0.54380694 ... 0.88115793 0.82013136\n",
            "    0.92795441]\n",
            "   [0.80224159 0.82965077 0.81888687 ... 0.64639433 0.9580065\n",
            "    0.8861244 ]\n",
            "   [0.36104221 0.55395804 0.99661217 ... 0.77547497 0.82790175\n",
            "    0.82334929]]]\n",
            "\n",
            "\n",
            " [[[0.90226343 0.45650232 0.76067119 ... 0.80931371 0.62910764\n",
            "    0.95512964]\n",
            "   [0.97862723 0.73120923 0.9755273  ... 0.78855475 0.70184016\n",
            "    0.22007166]\n",
            "   [0.34665038 0.87427208 0.68956995 ... 0.80043532 0.47630998\n",
            "    0.94759294]\n",
            "   ...\n",
            "   [0.3199035  0.07948385 0.43538642 ... 0.97071863 0.82013136\n",
            "    0.69580035]\n",
            "   [0.66631226 0.50058521 0.81888687 ... 0.64639433 0.70821164\n",
            "    0.8861244 ]\n",
            "   [0.28655842 0.62397858 0.77677833 ... 0.9436025  0.82790175\n",
            "    0.82334929]]\n",
            "\n",
            "  [[0.8148938  0.45650232 0.04835408 ... 0.98663593 0.96808058\n",
            "    0.95512964]\n",
            "   [0.97862723 0.56057519 0.8996589  ... 0.78855475 0.77625305\n",
            "    0.73481029]\n",
            "   [0.7819348  0.94146715 0.68956995 ... 0.6347745  0.76158577\n",
            "    0.94759294]\n",
            "   ...\n",
            "   [0.75156299 0.13697128 0.89457219 ... 0.59074766 0.82013136\n",
            "    0.01071717]\n",
            "   [0.99241916 0.53302123 0.81888687 ... 0.64639433 0.77896306\n",
            "    0.8861244 ]\n",
            "   [0.77990146 0.55395804 0.52445605 ... 0.97501202 0.82790175\n",
            "    0.88023833]]\n",
            "\n",
            "  [[0.8148938  0.67630653 0.85555048 ... 0.84281133 0.62074945\n",
            "    0.95512964]\n",
            "   [0.97862723 0.77028222 0.8996589  ... 0.78855475 0.33276766\n",
            "    0.69950076]\n",
            "   [0.34665038 0.87427208 0.68956995 ... 0.3153151  0.72796545\n",
            "    0.94759294]\n",
            "   ...\n",
            "   [0.3133499  0.34429322 0.60547165 ... 0.34602035 0.82013136\n",
            "    0.76143989]\n",
            "   [0.70933785 0.50058521 0.81888687 ... 0.64639433 0.4987987\n",
            "    0.8861244 ]\n",
            "   [0.96662354 0.55395804 0.52445605 ... 0.77547497 0.82790175\n",
            "    0.85614189]]]]\n"
          ],
          "name": "stdout"
        }
      ]
    },
    {
      "cell_type": "code",
      "metadata": {
        "id": "YW8C4tLnTvbe"
      },
      "source": [
        "def naive_vector_dot(x,y):\n",
        "    assert len(x.shape) == 1\n",
        "    assert len(y.shape) == 1\n",
        "    assert x.shape[0] == y.shape[0]\n",
        "\n",
        "    z=0.\n",
        "    for i in range(x.shape[0]):\n",
        "        z += x[i]*y[i]\n",
        "    return z\n"
      ],
      "execution_count": 49,
      "outputs": []
    },
    {
      "cell_type": "code",
      "metadata": {
        "id": "YbhvLczGUAnS"
      },
      "source": [
        "import numpy as np\n",
        "def naive_matrix_vector_dot(x,y):\n",
        "    assert len(x.shape) == 2 # x는 넘파이 행렬입니다.\n",
        "    assert len(y.shape) == 1 # y는 넘파이 벡터입니다.\n",
        "    assert x.shape[1] == y.shape[0] # x의 두 번째 차원이 y의 첫 번째 차원과 같아야 합니다!\n",
        "\n",
        "    z = np.zeros(x.shape[0])\n",
        "    for i in range(x.shape[0]):\n",
        "        for j in range(x.shape[1]):\n",
        "            z[i] += x[i,j] *y[j]\n",
        "    return z "
      ],
      "execution_count": 50,
      "outputs": []
    },
    {
      "cell_type": "code",
      "metadata": {
        "id": "zYoXra0FWvJI"
      },
      "source": [
        "def naive_matrix_vector_dot(x,y):\n",
        "    z = np.zeros(x.shape[0])\n",
        "    for i in range(x.shape[0]):\n",
        "        z[i] = naive_vector_dot(x[i,:],y)\n",
        "    return z"
      ],
      "execution_count": 51,
      "outputs": []
    },
    {
      "cell_type": "code",
      "metadata": {
        "id": "TnrFJGbuXRfA"
      },
      "source": [
        "def naive_matrix_dot(x,y):\n",
        "    assert len(x.shape) == 2\n",
        "    assert len(y.shape) == 2\n",
        "    assert x.shape[1] == y.shape[0] \n",
        "    z = np.zeros((x.shape[0],y.shape[1]))\n",
        "    for i in range(x.shape[0]):\n",
        "        for j in range(y.shape[1]):\n",
        "            row_x = x[i,:]\n",
        "            column_y = y[:,j]\n",
        "            z[i,j] = naive_vector_dot(row_x,column_y)\n",
        "    return z"
      ],
      "execution_count": 52,
      "outputs": []
    },
    {
      "cell_type": "code",
      "metadata": {
        "id": "a_92nJeVYkUh"
      },
      "source": [
        ""
      ],
      "execution_count": null,
      "outputs": []
    }
  ]
}